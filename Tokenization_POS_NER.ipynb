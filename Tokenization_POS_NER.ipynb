{
  "nbformat": 4,
  "nbformat_minor": 0,
  "metadata": {
    "colab": {
      "provenance": [],
      "authorship_tag": "ABX9TyNosvItyYf3ip/x9DDxDHNj",
      "include_colab_link": true
    },
    "kernelspec": {
      "name": "python3",
      "display_name": "Python 3"
    },
    "language_info": {
      "name": "python"
    }
  },
  "cells": [
    {
      "cell_type": "markdown",
      "metadata": {
        "id": "view-in-github",
        "colab_type": "text"
      },
      "source": [
        "<a href=\"https://colab.research.google.com/github/KMkhim/Associate-R/blob/main/Tokenization_POS_NER.ipynb\" target=\"_parent\"><img src=\"https://colab.research.google.com/assets/colab-badge.svg\" alt=\"Open In Colab\"/></a>"
      ]
    },
    {
      "cell_type": "markdown",
      "source": [
        "## Data Cleaning"
      ],
      "metadata": {
        "id": "iptdY7tImzsI"
      }
    },
    {
      "cell_type": "code",
      "execution_count": null,
      "metadata": {
        "id": "1sYQb-QqSKDF",
        "colab": {
          "base_uri": "https://localhost:8080/"
        },
        "outputId": "8d756ddf-c29a-466d-fca4-50d9c05417cc",
        "collapsed": true
      },
      "outputs": [
        {
          "output_type": "stream",
          "name": "stdout",
          "text": [
            "Collecting clean-text\n",
            "  Downloading clean_text-0.6.0-py3-none-any.whl.metadata (6.6 kB)\n",
            "Collecting emoji<2.0.0,>=1.0.0 (from clean-text)\n",
            "  Downloading emoji-1.7.0.tar.gz (175 kB)\n",
            "\u001b[2K     \u001b[90m━━━━━━━━━━━━━━━━━━━━━━━━━━━━━━━━━━━━━━━━\u001b[0m \u001b[32m175.4/175.4 kB\u001b[0m \u001b[31m10.5 MB/s\u001b[0m eta \u001b[36m0:00:00\u001b[0m\n",
            "\u001b[?25h  Preparing metadata (setup.py) ... \u001b[?25l\u001b[?25hdone\n",
            "Collecting ftfy<7.0,>=6.0 (from clean-text)\n",
            "  Downloading ftfy-6.3.1-py3-none-any.whl.metadata (7.3 kB)\n",
            "Requirement already satisfied: wcwidth in /usr/local/lib/python3.10/dist-packages (from ftfy<7.0,>=6.0->clean-text) (0.2.13)\n",
            "Downloading clean_text-0.6.0-py3-none-any.whl (11 kB)\n",
            "Downloading ftfy-6.3.1-py3-none-any.whl (44 kB)\n",
            "\u001b[2K   \u001b[90m━━━━━━━━━━━━━━━━━━━━━━━━━━━━━━━━━━━━━━━━\u001b[0m \u001b[32m44.8/44.8 kB\u001b[0m \u001b[31m2.5 MB/s\u001b[0m eta \u001b[36m0:00:00\u001b[0m\n",
            "\u001b[?25hBuilding wheels for collected packages: emoji\n",
            "  Building wheel for emoji (setup.py) ... \u001b[?25l\u001b[?25hdone\n",
            "  Created wheel for emoji: filename=emoji-1.7.0-py3-none-any.whl size=171033 sha256=829f1dc481ea3cfa688b689997da3c9bb697f15c8010c69432465aacd058ce99\n",
            "  Stored in directory: /root/.cache/pip/wheels/31/8a/8c/315c9e5d7773f74b33d5ed33f075b49c6eaeb7cedbb86e2cf8\n",
            "Successfully built emoji\n",
            "Installing collected packages: emoji, ftfy, clean-text\n",
            "Successfully installed clean-text-0.6.0 emoji-1.7.0 ftfy-6.3.1\n"
          ]
        }
      ],
      "source": [
        "!pip install clean-text"
      ]
    },
    {
      "cell_type": "code",
      "source": [
        "import re\n",
        "\n",
        "text = \"\"\"เมื่อวานนี้ (5 ม.ค. 2025) ฉันเดินทางไปยังศูนย์การค้า ICONSIAM เพื่อซื้อของขวัญวันเกิดให้เพื่อนที่ชื่อ \"ออมสิน\" ซึ่งเกิดวันที่ 7 มกราคม 🎂 ระหว่างทางฉันเปิด Google Maps เพื่อหาเส้นทาง แต่เกิดข้อผิดพลาด \"GPS signal not found\" ทำให้ต้องถามทางจากคนแถวนั้นแทน 🗺️ \\\n",
        "\n",
        "เมื่อถึงห้างฯ ฉันเจอโปรโมชั่นพิเศษ: ซื้อ iPhone 15 Pro Max รับส่วนลด 20% ถ้าชำระผ่านบัตรเครดิตของธนาคาร KBank! 💳 นอกจากนี้ยังมีร้านอาหารใหม่ที่ชื่อว่า \"ครัวในสวน\" ซึ่งเป็นร้านอาหารฟิวชันไทย-ญี่ปุ่น 🌸 ฉันสั่งราเมนต้มยำและชาเขียวมัทฉะ แต่พบว่าอาหารมาช้ากว่า 45 นาที 🍜 \\\n",
        "\n",
        "หลังจากนั้น ฉันเดินไปร้านหนังสือ SE-ED เพื่อหาหนังสือ Data Science ที่เขียนโดย Andrew Ng แต่กลับได้เล่มที่ชื่อ \"Python for Beginners\" แทน 📚 พนักงานแจ้งว่าหนังสือที่ฉันต้องการหมดสต็อก \\\n",
        "\n",
        "ก่อนกลับ ฉันลองใช้บริการแชตบอตของ ICONSIAM เพื่อสอบถามที่จอดรถ โดยพิมพ์คำถามว่า \"ตอนนี้ที่จอดรถในโซน A ว่างไหม?\" แต่บอทตอบผิดว่า \"มีที่จอดว่างทั้งหมด 100 คัน\" ทั้งที่โซนนั้นเต็มแล้ว 🚗❌ สุดท้าย ฉันจึงโทรติดต่อฝ่ายบริการลูกค้าเพื่อขอข้อมูลที่ถูกต้องแทน 📞 \\\n",
        "\n",
        "วันนี้เป็นวันธรรมดา แต่ทำไมทุกอย่างถึงดูยุ่งยากไปหมดนะ? 🤔 หรือว่า AI ที่เราใช้อยู่ทุกวันนี้ยังต้องปรับปรุงอีกเยอะ? \"\"\"\n",
        "\n",
        "\n",
        "# ลบ URL\n",
        "text = re.sub(r'http\\S+|www\\S+', '', text)\n",
        "\n",
        "\n",
        "# ลบ @mentions\n",
        "text = re.sub(r'@\\w+', '', text)\n",
        "\n",
        "\n",
        "# ลบ #hashtags\n",
        "text = re.sub(r'#\\w+', '', text)\n",
        "\n",
        "\n",
        "# ลบอีโมจิ โดยไม่ลบตัวอักษรภาษาไทย\n",
        "# Unicode Range ของอีโมจิ: U+1F600 - U+1F64F, U+1F300 - U+1F5FF, U+1F680 - U+1F6FF, ฯลฯ\n",
        "text = re.sub(r'[^\\w\\sก-ฮะ-์]+', '', text)\n",
        "\n",
        "\n",
        "# ลบเครื่องหมายพิเศษ (ยกเว้นอักขระภาษาไทยและช่องว่าง)\n",
        "text = re.sub(r'[^\\w\\sก-ฮะ-์]+', '', text)\n",
        "\n",
        "print(text)"
      ],
      "metadata": {
        "colab": {
          "base_uri": "https://localhost:8080/"
        },
        "id": "0Nl_z2HwhfY_",
        "outputId": "e64a0f4d-b31c-40d5-ba92-3c1e11592468"
      },
      "execution_count": null,
      "outputs": [
        {
          "output_type": "stream",
          "name": "stdout",
          "text": [
            "เมื่อวานนี้ 5 มค 2025 ฉันเดินทางไปยังศูนย์การค้า ICONSIAM เพื่อซื้อของขวัญวันเกิดให้เพื่อนที่ชื่อ ออมสิน ซึ่งเกิดวันที่ 7 มกราคม  ระหว่างทางฉันเปิด Google Maps เพื่อหาเส้นทาง แต่เกิดข้อผิดพลาด GPS signal not found ทำให้ต้องถามทางจากคนแถวนั้นแทน  \n",
            "เมื่อถึงห้างฯ ฉันเจอโปรโมชั่นพิเศษ ซื้อ iPhone 15 Pro Max รับส่วนลด 20 ถ้าชำระผ่านบัตรเครดิตของธนาคาร KBank  นอกจากนี้ยังมีร้านอาหารใหม่ที่ชื่อว่า ครัวในสวน ซึ่งเป็นร้านอาหารฟิวชันไทยญี่ปุ่น  ฉันสั่งราเมนต้มยำและชาเขียวมัทฉะ แต่พบว่าอาหารมาช้ากว่า 45 นาที  \n",
            "หลังจากนั้น ฉันเดินไปร้านหนังสือ SEED เพื่อหาหนังสือ Data Science ที่เขียนโดย Andrew Ng แต่กลับได้เล่มที่ชื่อ Python for Beginners แทน  พนักงานแจ้งว่าหนังสือที่ฉันต้องการหมดสต็อก \n",
            "ก่อนกลับ ฉันลองใช้บริการแชตบอตของ ICONSIAM เพื่อสอบถามที่จอดรถ โดยพิมพ์คำถามว่า ตอนนี้ที่จอดรถในโซน A ว่างไหม แต่บอทตอบผิดว่า มีที่จอดว่างทั้งหมด 100 คัน ทั้งที่โซนนั้นเต็มแล้ว  สุดท้าย ฉันจึงโทรติดต่อฝ่ายบริการลูกค้าเพื่อขอข้อมูลที่ถูกต้องแทน  \n",
            "วันนี้เป็นวันธรรมดา แต่ทำไมทุกอย่างถึงดูยุ่งยากไปหมดนะ  หรือว่า AI ที่เราใช้อยู่ทุกวันนี้ยังต้องปรับปรุงอีกเยอะ \n"
          ]
        }
      ]
    },
    {
      "cell_type": "markdown",
      "source": [
        "## Text Preprocessing (การเตรียมข้อความ)"
      ],
      "metadata": {
        "id": "VqluS07Iw9y_"
      }
    },
    {
      "cell_type": "markdown",
      "source": [
        "### การตัดคำ (Tokenization)"
      ],
      "metadata": {
        "id": "Awcz9XORm_fO"
      }
    },
    {
      "cell_type": "markdown",
      "source": [
        "#### pipe nlp"
      ],
      "metadata": {
        "id": "6ToyliuHw0xy"
      }
    },
    {
      "cell_type": "code",
      "source": [
        "!pip install \"pip<24.1\""
      ],
      "metadata": {
        "colab": {
          "base_uri": "https://localhost:8080/"
        },
        "collapsed": true,
        "id": "002FpFJxnR5t",
        "outputId": "5a588024-909a-4d76-9e89-f6b941a91645"
      },
      "execution_count": null,
      "outputs": [
        {
          "output_type": "stream",
          "name": "stdout",
          "text": [
            "Collecting pip<24.1\n",
            "  Downloading pip-24.0-py3-none-any.whl.metadata (3.6 kB)\n",
            "Downloading pip-24.0-py3-none-any.whl (2.1 MB)\n",
            "\u001b[?25l   \u001b[90m━━━━━━━━━━━━━━━━━━━━━━━━━━━━━━━━━━━━━━━━\u001b[0m \u001b[32m0.0/2.1 MB\u001b[0m \u001b[31m?\u001b[0m eta \u001b[36m-:--:--\u001b[0m\r\u001b[2K   \u001b[91m━━━━━━━━━━━━━━━━━━━━━━━━━━━━━━━━━━━━━━━\u001b[0m\u001b[91m╸\u001b[0m \u001b[32m2.1/2.1 MB\u001b[0m \u001b[31m77.5 MB/s\u001b[0m eta \u001b[36m0:00:01\u001b[0m\r\u001b[2K   \u001b[90m━━━━━━━━━━━━━━━━━━━━━━━━━━━━━━━━━━━━━━━━\u001b[0m \u001b[32m2.1/2.1 MB\u001b[0m \u001b[31m37.9 MB/s\u001b[0m eta \u001b[36m0:00:00\u001b[0m\n",
            "\u001b[?25hInstalling collected packages: pip\n",
            "  Attempting uninstall: pip\n",
            "    Found existing installation: pip 24.1.2\n",
            "    Uninstalling pip-24.1.2:\n",
            "      Successfully uninstalled pip-24.1.2\n",
            "Successfully installed pip-24.0\n"
          ]
        }
      ]
    },
    {
      "cell_type": "code",
      "source": [
        "!pip install pythainlp[full]"
      ],
      "metadata": {
        "collapsed": true,
        "id": "By3v0lR3nWuz",
        "colab": {
          "base_uri": "https://localhost:8080/"
        },
        "outputId": "bb7aa065-aba2-4393-e9ab-e887595bf5f2"
      },
      "execution_count": null,
      "outputs": [
        {
          "output_type": "stream",
          "name": "stdout",
          "text": [
            "Collecting pythainlp[full]\n",
            "  Downloading pythainlp-5.0.5-py3-none-any.whl.metadata (7.5 kB)\n",
            "Requirement already satisfied: requests>=2.22.0 in /usr/local/lib/python3.10/dist-packages (from pythainlp[full]) (2.32.3)\n",
            "Requirement already satisfied: PyYAML>=5.3.1 in /usr/local/lib/python3.10/dist-packages (from pythainlp[full]) (6.0.2)\n",
            "Collecting attacut>=1.0.4 (from pythainlp[full])\n",
            "  Downloading attacut-1.0.6-py3-none-any.whl.metadata (4.0 kB)\n",
            "Requirement already satisfied: emoji>=0.5.1 in /usr/local/lib/python3.10/dist-packages (from pythainlp[full]) (1.7.0)\n",
            "Collecting epitran>=1.1 (from pythainlp[full])\n",
            "  Downloading epitran-1.25.1-py2.py3-none-any.whl.metadata (34 kB)\n",
            "Collecting fairseq>=0.10.0 (from pythainlp[full])\n",
            "  Downloading fairseq-0.12.2.tar.gz (9.6 MB)\n",
            "\u001b[2K     \u001b[90m━━━━━━━━━━━━━━━━━━━━━━━━━━━━━━━━━━━━━━━━\u001b[0m \u001b[32m9.6/9.6 MB\u001b[0m \u001b[31m27.2 MB/s\u001b[0m eta \u001b[36m0:00:00\u001b[0m\n",
            "\u001b[?25h  Installing build dependencies ... \u001b[?25l\u001b[?25hdone\n",
            "  Getting requirements to build wheel ... \u001b[?25l\u001b[?25hdone\n",
            "  Installing backend dependencies ... \u001b[?25l\u001b[?25hdone\n",
            "  Preparing metadata (pyproject.toml) ... \u001b[?25l\u001b[?25hdone\n",
            "Requirement already satisfied: gensim>=4.0.0 in /usr/local/lib/python3.10/dist-packages (from pythainlp[full]) (4.3.3)\n",
            "Requirement already satisfied: nltk>=3.3 in /usr/local/lib/python3.10/dist-packages (from pythainlp[full]) (3.9.1)\n",
            "Requirement already satisfied: numpy>=1.22 in /usr/local/lib/python3.10/dist-packages (from pythainlp[full]) (1.26.4)\n",
            "Requirement already satisfied: pandas>=0.24 in /usr/local/lib/python3.10/dist-packages (from pythainlp[full]) (2.2.2)\n",
            "Collecting pyicu>=2.3 (from pythainlp[full])\n",
            "  Downloading PyICU-2.14.tar.gz (263 kB)\n",
            "\u001b[2K     \u001b[90m━━━━━━━━━━━━━━━━━━━━━━━━━━━━━━━━━━━━━━━━\u001b[0m \u001b[32m263.9/263.9 kB\u001b[0m \u001b[31m19.1 MB/s\u001b[0m eta \u001b[36m0:00:00\u001b[0m\n",
            "\u001b[?25h  Installing build dependencies ... \u001b[?25l\u001b[?25hdone\n",
            "  Getting requirements to build wheel ... \u001b[?25l\u001b[?25hdone\n",
            "  Preparing metadata (pyproject.toml) ... \u001b[?25l\u001b[?25hdone\n",
            "Collecting sacremoses>=0.0.41 (from pythainlp[full])\n",
            "  Downloading sacremoses-0.1.1-py3-none-any.whl.metadata (8.3 kB)\n",
            "Requirement already satisfied: sentencepiece>=0.1.91 in /usr/local/lib/python3.10/dist-packages (from pythainlp[full]) (0.2.0)\n",
            "Collecting ssg>=0.0.8 (from pythainlp[full])\n",
            "  Downloading ssg-0.0.8-py3-none-any.whl.metadata (762 bytes)\n",
            "Requirement already satisfied: torch>=1.0.0 in /usr/local/lib/python3.10/dist-packages (from pythainlp[full]) (2.5.1+cu121)\n",
            "Collecting fastai<2.0 (from pythainlp[full])\n",
            "  Downloading fastai-1.0.61-py3-none-any.whl.metadata (14 kB)\n",
            "Collecting bpemb>=0.3.2 (from pythainlp[full])\n",
            "  Downloading bpemb-0.3.6-py3-none-any.whl.metadata (19 kB)\n",
            "Requirement already satisfied: transformers>=4.22.1 in /usr/local/lib/python3.10/dist-packages (from pythainlp[full]) (4.47.1)\n",
            "Collecting sefr-cut>=1.1 (from pythainlp[full])\n",
            "  Downloading SEFR_CUT-1.1-py3-none-any.whl.metadata (6.5 kB)\n",
            "Collecting phunspell>=0.1.6 (from pythainlp[full])\n",
            "  Downloading phunspell-0.1.6.tar.gz (47.5 MB)\n",
            "\u001b[2K     \u001b[90m━━━━━━━━━━━━━━━━━━━━━━━━━━━━━━━━━━━━━━━━\u001b[0m \u001b[32m47.5/47.5 MB\u001b[0m \u001b[31m11.8 MB/s\u001b[0m eta \u001b[36m0:00:00\u001b[0m\n",
            "\u001b[?25h  Installing build dependencies ... \u001b[?25l\u001b[?25hdone\n",
            "  Getting requirements to build wheel ... \u001b[?25l\u001b[?25hdone\n",
            "  Preparing metadata (pyproject.toml) ... \u001b[?25l\u001b[?25hdone\n",
            "Collecting spylls>=0.1.5 (from pythainlp[full])\n",
            "  Downloading spylls-0.1.7-py2.py3-none-any.whl.metadata (3.0 kB)\n",
            "Collecting symspellpy>=6.7.6 (from pythainlp[full])\n",
            "  Downloading symspellpy-6.7.8-py3-none-any.whl.metadata (3.9 kB)\n",
            "Collecting oskut>=1.3 (from pythainlp[full])\n",
            "  Downloading OSKut-1.3-py3-none-any.whl.metadata (6.3 kB)\n",
            "Collecting nlpo3>=1.2.2 (from pythainlp[full])\n",
            "  Downloading nlpo3-1.3.1-cp310-cp310-manylinux_2_17_x86_64.manylinux2014_x86_64.whl.metadata (7.1 kB)\n",
            "Collecting onnxruntime>=1.10.0 (from pythainlp[full])\n",
            "  Downloading onnxruntime-1.20.1-cp310-cp310-manylinux_2_27_x86_64.manylinux_2_28_x86_64.whl.metadata (4.5 kB)\n",
            "Collecting thai-nner (from pythainlp[full])\n",
            "  Downloading thai_nner-0.3-py3-none-any.whl.metadata (5.3 kB)\n",
            "Collecting wunsen>=0.0.3 (from pythainlp[full])\n",
            "  Downloading wunsen-0.0.3-py3-none-any.whl.metadata (7.6 kB)\n",
            "Collecting wtpsplit>=1.0.1 (from pythainlp[full])\n",
            "  Downloading wtpsplit-2.1.2-py3-none-any.whl.metadata (633 bytes)\n",
            "Collecting spacy-thai>=0.7.1 (from pythainlp[full])\n",
            "  Downloading spacy_thai-0.7.8-py3-none-any.whl.metadata (2.9 kB)\n",
            "Requirement already satisfied: spacy>=3.0 in /usr/local/lib/python3.10/dist-packages (from pythainlp[full]) (3.7.5)\n",
            "Collecting fastcoref>=2.1.5 (from pythainlp[full])\n",
            "  Downloading fastcoref-2.1.6.tar.gz (27 kB)\n",
            "  Preparing metadata (setup.py) ... \u001b[?25l\u001b[?25hdone\n",
            "Collecting ufal.chu-liu-edmonds>=1.0.2 (from pythainlp[full])\n",
            "  Downloading ufal.chu_liu_edmonds-1.0.3-cp310-cp310-manylinux_2_17_x86_64.manylinux2014_x86_64.whl.metadata (1.8 kB)\n",
            "Collecting panphon>=0.20.0 (from pythainlp[full])\n",
            "  Downloading panphon-0.21.2-py2.py3-none-any.whl.metadata (15 kB)\n",
            "Requirement already satisfied: sentence-transformers>=2.2.2 in /usr/local/lib/python3.10/dist-packages (from pythainlp[full]) (3.3.1)\n",
            "Collecting khamyo>=0.2.0 (from pythainlp[full])\n",
            "  Downloading KhamYo-0.3.0-py3-none-any.whl.metadata (3.7 kB)\n",
            "Collecting docopt>=0.6.2 (from attacut>=1.0.4->pythainlp[full])\n",
            "  Downloading docopt-0.6.2.tar.gz (25 kB)\n",
            "  Preparing metadata (setup.py) ... \u001b[?25l\u001b[?25hdone\n",
            "Collecting fire>=0.1.3 (from attacut>=1.0.4->pythainlp[full])\n",
            "  Downloading fire-0.7.0.tar.gz (87 kB)\n",
            "\u001b[2K     \u001b[90m━━━━━━━━━━━━━━━━━━━━━━━━━━━━━━━━━━━━━━━━\u001b[0m \u001b[32m87.2/87.2 kB\u001b[0m \u001b[31m7.1 MB/s\u001b[0m eta \u001b[36m0:00:00\u001b[0m\n",
            "\u001b[?25h  Preparing metadata (setup.py) ... \u001b[?25l\u001b[?25hdone\n",
            "Collecting nptyping>=0.2.0 (from attacut>=1.0.4->pythainlp[full])\n",
            "  Downloading nptyping-2.5.0-py3-none-any.whl.metadata (7.6 kB)\n",
            "Requirement already satisfied: six>=1.12.0 in /usr/local/lib/python3.10/dist-packages (from attacut>=1.0.4->pythainlp[full]) (1.17.0)\n",
            "Requirement already satisfied: tqdm in /usr/local/lib/python3.10/dist-packages (from bpemb>=0.3.2->pythainlp[full]) (4.67.1)\n",
            "Requirement already satisfied: setuptools in /usr/local/lib/python3.10/dist-packages (from epitran>=1.1->pythainlp[full]) (75.1.0)\n",
            "Requirement already satisfied: regex in /usr/local/lib/python3.10/dist-packages (from epitran>=1.1->pythainlp[full]) (2024.11.6)\n",
            "Requirement already satisfied: marisa-trie in /usr/local/lib/python3.10/dist-packages (from epitran>=1.1->pythainlp[full]) (1.2.1)\n",
            "Collecting jamo (from epitran>=1.1->pythainlp[full])\n",
            "  Downloading jamo-0.4.1-py3-none-any.whl.metadata (2.3 kB)\n",
            "Collecting g2pk (from epitran>=1.1->pythainlp[full])\n",
            "  Downloading g2pK-0.9.4-py3-none-any.whl.metadata (7.5 kB)\n",
            "Requirement already satisfied: cffi in /usr/local/lib/python3.10/dist-packages (from fairseq>=0.10.0->pythainlp[full]) (1.17.1)\n",
            "Requirement already satisfied: cython in /usr/local/lib/python3.10/dist-packages (from fairseq>=0.10.0->pythainlp[full]) (3.0.11)\n",
            "Collecting hydra-core<1.1,>=1.0.7 (from fairseq>=0.10.0->pythainlp[full])\n",
            "  Downloading hydra_core-1.0.7-py3-none-any.whl.metadata (3.7 kB)\n",
            "Collecting omegaconf<2.1 (from fairseq>=0.10.0->pythainlp[full])\n",
            "  Downloading omegaconf-2.0.6-py3-none-any.whl.metadata (3.0 kB)\n",
            "Collecting sacrebleu>=1.4.12 (from fairseq>=0.10.0->pythainlp[full])\n",
            "  Downloading sacrebleu-2.5.1-py3-none-any.whl.metadata (51 kB)\n",
            "\u001b[2K     \u001b[90m━━━━━━━━━━━━━━━━━━━━━━━━━━━━━━━━━━━━━━━━\u001b[0m \u001b[32m51.8/51.8 kB\u001b[0m \u001b[31m4.3 MB/s\u001b[0m eta \u001b[36m0:00:00\u001b[0m\n",
            "\u001b[?25hCollecting bitarray (from fairseq>=0.10.0->pythainlp[full])\n",
            "  Downloading bitarray-3.0.0-cp310-cp310-manylinux_2_17_x86_64.manylinux2014_x86_64.whl.metadata (32 kB)\n",
            "Requirement already satisfied: torchaudio>=0.8.0 in /usr/local/lib/python3.10/dist-packages (from fairseq>=0.10.0->pythainlp[full]) (2.5.1+cu121)\n",
            "Requirement already satisfied: bottleneck in /usr/local/lib/python3.10/dist-packages (from fastai<2.0->pythainlp[full]) (1.4.2)\n",
            "Requirement already satisfied: fastprogress>=0.2.1 in /usr/local/lib/python3.10/dist-packages (from fastai<2.0->pythainlp[full]) (1.0.3)\n",
            "Requirement already satisfied: beautifulsoup4 in /usr/local/lib/python3.10/dist-packages (from fastai<2.0->pythainlp[full]) (4.12.3)\n",
            "Requirement already satisfied: matplotlib in /usr/local/lib/python3.10/dist-packages (from fastai<2.0->pythainlp[full]) (3.10.0)\n",
            "Requirement already satisfied: numexpr in /usr/local/lib/python3.10/dist-packages (from fastai<2.0->pythainlp[full]) (2.10.2)\n",
            "Collecting nvidia-ml-py3 (from fastai<2.0->pythainlp[full])\n",
            "  Downloading nvidia-ml-py3-7.352.0.tar.gz (19 kB)\n",
            "  Preparing metadata (setup.py) ... \u001b[?25l\u001b[?25hdone\n",
            "Requirement already satisfied: packaging in /usr/local/lib/python3.10/dist-packages (from fastai<2.0->pythainlp[full]) (24.2)\n",
            "Requirement already satisfied: Pillow in /usr/local/lib/python3.10/dist-packages (from fastai<2.0->pythainlp[full]) (11.1.0)\n",
            "Requirement already satisfied: scipy in /usr/local/lib/python3.10/dist-packages (from fastai<2.0->pythainlp[full]) (1.13.1)\n",
            "Requirement already satisfied: torchvision in /usr/local/lib/python3.10/dist-packages (from fastai<2.0->pythainlp[full]) (0.20.1+cu121)\n",
            "Collecting datasets>=2.5.2 (from fastcoref>=2.1.5->pythainlp[full])\n",
            "  Downloading datasets-3.2.0-py3-none-any.whl.metadata (20 kB)\n",
            "Requirement already satisfied: smart-open>=1.8.1 in /usr/local/lib/python3.10/dist-packages (from gensim>=4.0.0->pythainlp[full]) (7.1.0)\n",
            "Requirement already satisfied: click in /usr/local/lib/python3.10/dist-packages (from nltk>=3.3->pythainlp[full]) (8.1.8)\n",
            "Requirement already satisfied: joblib in /usr/local/lib/python3.10/dist-packages (from nltk>=3.3->pythainlp[full]) (1.4.2)\n",
            "Collecting coloredlogs (from onnxruntime>=1.10.0->pythainlp[full])\n",
            "  Downloading coloredlogs-15.0.1-py2.py3-none-any.whl.metadata (12 kB)\n",
            "Requirement already satisfied: flatbuffers in /usr/local/lib/python3.10/dist-packages (from onnxruntime>=1.10.0->pythainlp[full]) (24.12.23)\n",
            "Requirement already satisfied: protobuf in /usr/local/lib/python3.10/dist-packages (from onnxruntime>=1.10.0->pythainlp[full]) (4.25.5)\n",
            "Requirement already satisfied: sympy in /usr/local/lib/python3.10/dist-packages (from onnxruntime>=1.10.0->pythainlp[full]) (1.13.1)\n",
            "Requirement already satisfied: tensorflow>=2.0.0 in /usr/local/lib/python3.10/dist-packages (from oskut>=1.3->pythainlp[full]) (2.17.1)\n",
            "Requirement already satisfied: scikit-learn in /usr/local/lib/python3.10/dist-packages (from oskut>=1.3->pythainlp[full]) (1.6.0)\n",
            "Collecting pyahocorasick<=1.4.0 (from oskut>=1.3->pythainlp[full])\n",
            "  Downloading pyahocorasick-1.4.0.tar.gz (312 kB)\n",
            "\u001b[2K     \u001b[90m━━━━━━━━━━━━━━━━━━━━━━━━━━━━━━━━━━━━━━━━\u001b[0m \u001b[32m312.1/312.1 kB\u001b[0m \u001b[31m23.9 MB/s\u001b[0m eta \u001b[36m0:00:00\u001b[0m\n",
            "\u001b[?25h  Preparing metadata (setup.py) ... \u001b[?25l\u001b[?25hdone\n",
            "Requirement already satisfied: python-dateutil>=2.8.2 in /usr/local/lib/python3.10/dist-packages (from pandas>=0.24->pythainlp[full]) (2.8.2)\n",
            "Requirement already satisfied: pytz>=2020.1 in /usr/local/lib/python3.10/dist-packages (from pandas>=0.24->pythainlp[full]) (2024.2)\n",
            "Requirement already satisfied: tzdata>=2022.7 in /usr/local/lib/python3.10/dist-packages (from pandas>=0.24->pythainlp[full]) (2024.2)\n",
            "Collecting unicodecsv (from panphon>=0.20.0->pythainlp[full])\n",
            "  Downloading unicodecsv-0.14.1.tar.gz (10 kB)\n",
            "  Preparing metadata (setup.py) ... \u001b[?25l\u001b[?25hdone\n",
            "Requirement already satisfied: editdistance in /usr/local/lib/python3.10/dist-packages (from panphon>=0.20.0->pythainlp[full]) (0.8.1)\n",
            "Collecting munkres (from panphon>=0.20.0->pythainlp[full])\n",
            "  Downloading munkres-1.1.4-py2.py3-none-any.whl.metadata (980 bytes)\n",
            "Requirement already satisfied: charset-normalizer<4,>=2 in /usr/local/lib/python3.10/dist-packages (from requests>=2.22.0->pythainlp[full]) (3.4.1)\n",
            "Requirement already satisfied: idna<4,>=2.5 in /usr/local/lib/python3.10/dist-packages (from requests>=2.22.0->pythainlp[full]) (3.10)\n",
            "Requirement already satisfied: urllib3<3,>=1.21.1 in /usr/local/lib/python3.10/dist-packages (from requests>=2.22.0->pythainlp[full]) (2.3.0)\n",
            "Requirement already satisfied: certifi>=2017.4.17 in /usr/local/lib/python3.10/dist-packages (from requests>=2.22.0->pythainlp[full]) (2024.12.14)\n",
            "Collecting python-crfsuite (from sefr-cut>=1.1->pythainlp[full])\n",
            "  Downloading python_crfsuite-0.9.11-cp310-cp310-manylinux_2_17_x86_64.manylinux2014_x86_64.whl.metadata (4.3 kB)\n",
            "Requirement already satisfied: huggingface-hub>=0.20.0 in /usr/local/lib/python3.10/dist-packages (from sentence-transformers>=2.2.2->pythainlp[full]) (0.27.1)\n",
            "Requirement already satisfied: spacy-legacy<3.1.0,>=3.0.11 in /usr/local/lib/python3.10/dist-packages (from spacy>=3.0->pythainlp[full]) (3.0.12)\n",
            "Requirement already satisfied: spacy-loggers<2.0.0,>=1.0.0 in /usr/local/lib/python3.10/dist-packages (from spacy>=3.0->pythainlp[full]) (1.0.5)\n",
            "Requirement already satisfied: murmurhash<1.1.0,>=0.28.0 in /usr/local/lib/python3.10/dist-packages (from spacy>=3.0->pythainlp[full]) (1.0.11)\n",
            "Requirement already satisfied: cymem<2.1.0,>=2.0.2 in /usr/local/lib/python3.10/dist-packages (from spacy>=3.0->pythainlp[full]) (2.0.10)\n",
            "Requirement already satisfied: preshed<3.1.0,>=3.0.2 in /usr/local/lib/python3.10/dist-packages (from spacy>=3.0->pythainlp[full]) (3.0.9)\n",
            "Requirement already satisfied: thinc<8.3.0,>=8.2.2 in /usr/local/lib/python3.10/dist-packages (from spacy>=3.0->pythainlp[full]) (8.2.5)\n",
            "Requirement already satisfied: wasabi<1.2.0,>=0.9.1 in /usr/local/lib/python3.10/dist-packages (from spacy>=3.0->pythainlp[full]) (1.1.3)\n",
            "Requirement already satisfied: srsly<3.0.0,>=2.4.3 in /usr/local/lib/python3.10/dist-packages (from spacy>=3.0->pythainlp[full]) (2.5.0)\n",
            "Requirement already satisfied: catalogue<2.1.0,>=2.0.6 in /usr/local/lib/python3.10/dist-packages (from spacy>=3.0->pythainlp[full]) (2.0.10)\n",
            "Requirement already satisfied: weasel<0.5.0,>=0.1.0 in /usr/local/lib/python3.10/dist-packages (from spacy>=3.0->pythainlp[full]) (0.4.1)\n",
            "Requirement already satisfied: typer<1.0.0,>=0.3.0 in /usr/local/lib/python3.10/dist-packages (from spacy>=3.0->pythainlp[full]) (0.15.1)\n",
            "Requirement already satisfied: pydantic!=1.8,!=1.8.1,<3.0.0,>=1.7.4 in /usr/local/lib/python3.10/dist-packages (from spacy>=3.0->pythainlp[full]) (2.10.4)\n",
            "Requirement already satisfied: jinja2 in /usr/local/lib/python3.10/dist-packages (from spacy>=3.0->pythainlp[full]) (3.1.5)\n",
            "Requirement already satisfied: langcodes<4.0.0,>=3.2.0 in /usr/local/lib/python3.10/dist-packages (from spacy>=3.0->pythainlp[full]) (3.5.0)\n",
            "Collecting deplacy>=2.1.0 (from spacy-thai>=0.7.1->pythainlp[full])\n",
            "  Downloading deplacy-2.1.0-py3-none-any.whl.metadata (15 kB)\n",
            "Collecting ufal.udpipe>=1.2.0 (from spacy-thai>=0.7.1->pythainlp[full])\n",
            "  Downloading ufal.udpipe-1.3.1.1-cp310-cp310-manylinux_2_17_x86_64.manylinux2014_x86_64.whl.metadata (10 kB)\n",
            "Collecting editdistpy>=0.1.3 (from symspellpy>=6.7.6->pythainlp[full])\n",
            "  Downloading editdistpy-0.1.5-cp310-cp310-manylinux_2_5_x86_64.manylinux1_x86_64.manylinux_2_17_x86_64.manylinux2014_x86_64.whl.metadata (7.9 kB)\n",
            "Requirement already satisfied: filelock in /usr/local/lib/python3.10/dist-packages (from torch>=1.0.0->pythainlp[full]) (3.16.1)\n",
            "Requirement already satisfied: typing-extensions>=4.8.0 in /usr/local/lib/python3.10/dist-packages (from torch>=1.0.0->pythainlp[full]) (4.12.2)\n",
            "Requirement already satisfied: networkx in /usr/local/lib/python3.10/dist-packages (from torch>=1.0.0->pythainlp[full]) (3.4.2)\n",
            "Requirement already satisfied: fsspec in /usr/local/lib/python3.10/dist-packages (from torch>=1.0.0->pythainlp[full]) (2024.10.0)\n",
            "Requirement already satisfied: mpmath<1.4,>=1.1.0 in /usr/local/lib/python3.10/dist-packages (from sympy->onnxruntime>=1.10.0->pythainlp[full]) (1.3.0)\n",
            "Requirement already satisfied: tokenizers<0.22,>=0.21 in /usr/local/lib/python3.10/dist-packages (from transformers>=4.22.1->pythainlp[full]) (0.21.0)\n",
            "Requirement already satisfied: safetensors>=0.4.1 in /usr/local/lib/python3.10/dist-packages (from transformers>=4.22.1->pythainlp[full]) (0.5.0)\n",
            "Collecting huggingface-hub>=0.20.0 (from sentence-transformers>=2.2.2->pythainlp[full])\n",
            "  Downloading huggingface_hub-0.25.2-py3-none-any.whl.metadata (13 kB)\n",
            "Collecting skops (from wtpsplit>=1.0.1->pythainlp[full])\n",
            "  Downloading skops-0.11.0-py3-none-any.whl.metadata (6.0 kB)\n",
            "Collecting cached_property (from wtpsplit>=1.0.1->pythainlp[full])\n",
            "  Downloading cached_property-2.0.1-py3-none-any.whl.metadata (10 kB)\n",
            "Collecting mosestokenizer (from wtpsplit>=1.0.1->pythainlp[full])\n",
            "  Downloading mosestokenizer-1.2.1.tar.gz (37 kB)\n",
            "  Preparing metadata (setup.py) ... \u001b[?25l\u001b[?25hdone\n",
            "Collecting adapters (from wtpsplit>=1.0.1->pythainlp[full])\n",
            "  Downloading adapters-1.0.1-py3-none-any.whl.metadata (16 kB)\n",
            "Collecting khanaa>=0.0.6 (from wunsen>=0.0.3->pythainlp[full])\n",
            "  Downloading khanaa-0.1.1-py3-none-any.whl.metadata (6.1 kB)\n",
            "Requirement already satisfied: tensorboard>=1.14 in /usr/local/lib/python3.10/dist-packages (from thai-nner->pythainlp[full]) (2.17.1)\n",
            "Requirement already satisfied: pyarrow>=15.0.0 in /usr/local/lib/python3.10/dist-packages (from datasets>=2.5.2->fastcoref>=2.1.5->pythainlp[full]) (17.0.0)\n",
            "Collecting dill<0.3.9,>=0.3.0 (from datasets>=2.5.2->fastcoref>=2.1.5->pythainlp[full])\n",
            "  Downloading dill-0.3.8-py3-none-any.whl.metadata (10 kB)\n",
            "Collecting xxhash (from datasets>=2.5.2->fastcoref>=2.1.5->pythainlp[full])\n",
            "  Downloading xxhash-3.5.0-cp310-cp310-manylinux_2_17_x86_64.manylinux2014_x86_64.whl.metadata (12 kB)\n",
            "Collecting multiprocess<0.70.17 (from datasets>=2.5.2->fastcoref>=2.1.5->pythainlp[full])\n",
            "  Downloading multiprocess-0.70.16-py310-none-any.whl.metadata (7.2 kB)\n",
            "Collecting fsspec (from torch>=1.0.0->pythainlp[full])\n",
            "  Downloading fsspec-2024.9.0-py3-none-any.whl.metadata (11 kB)\n",
            "Requirement already satisfied: aiohttp in /usr/local/lib/python3.10/dist-packages (from datasets>=2.5.2->fastcoref>=2.1.5->pythainlp[full]) (3.11.11)\n",
            "Requirement already satisfied: termcolor in /usr/local/lib/python3.10/dist-packages (from fire>=0.1.3->attacut>=1.0.4->pythainlp[full]) (2.5.0)\n",
            "Collecting antlr4-python3-runtime==4.8 (from hydra-core<1.1,>=1.0.7->fairseq>=0.10.0->pythainlp[full])\n",
            "  Downloading antlr4-python3-runtime-4.8.tar.gz (112 kB)\n",
            "\u001b[2K     \u001b[90m━━━━━━━━━━━━━━━━━━━━━━━━━━━━━━━━━━━━━━━━\u001b[0m \u001b[32m112.4/112.4 kB\u001b[0m \u001b[31m9.5 MB/s\u001b[0m eta \u001b[36m0:00:00\u001b[0m\n",
            "\u001b[?25h  Preparing metadata (setup.py) ... \u001b[?25l\u001b[?25hdone\n",
            "Requirement already satisfied: language-data>=1.2 in /usr/local/lib/python3.10/dist-packages (from langcodes<4.0.0,>=3.2.0->spacy>=3.0->pythainlp[full]) (1.3.0)\n",
            "Requirement already satisfied: annotated-types>=0.6.0 in /usr/local/lib/python3.10/dist-packages (from pydantic!=1.8,!=1.8.1,<3.0.0,>=1.7.4->spacy>=3.0->pythainlp[full]) (0.7.0)\n",
            "Requirement already satisfied: pydantic-core==2.27.2 in /usr/local/lib/python3.10/dist-packages (from pydantic!=1.8,!=1.8.1,<3.0.0,>=1.7.4->spacy>=3.0->pythainlp[full]) (2.27.2)\n",
            "Collecting portalocker (from sacrebleu>=1.4.12->fairseq>=0.10.0->pythainlp[full])\n",
            "  Downloading portalocker-3.1.1-py3-none-any.whl.metadata (8.6 kB)\n",
            "Requirement already satisfied: tabulate>=0.8.9 in /usr/local/lib/python3.10/dist-packages (from sacrebleu>=1.4.12->fairseq>=0.10.0->pythainlp[full]) (0.9.0)\n",
            "Collecting colorama (from sacrebleu>=1.4.12->fairseq>=0.10.0->pythainlp[full])\n",
            "  Downloading colorama-0.4.6-py2.py3-none-any.whl.metadata (17 kB)\n",
            "Requirement already satisfied: lxml in /usr/local/lib/python3.10/dist-packages (from sacrebleu>=1.4.12->fairseq>=0.10.0->pythainlp[full]) (5.3.0)\n",
            "Requirement already satisfied: threadpoolctl>=3.1.0 in /usr/local/lib/python3.10/dist-packages (from scikit-learn->oskut>=1.3->pythainlp[full]) (3.5.0)\n",
            "Requirement already satisfied: wrapt in /usr/local/lib/python3.10/dist-packages (from smart-open>=1.8.1->gensim>=4.0.0->pythainlp[full]) (1.17.0)\n",
            "Requirement already satisfied: absl-py>=0.4 in /usr/local/lib/python3.10/dist-packages (from tensorboard>=1.14->thai-nner->pythainlp[full]) (1.4.0)\n",
            "Requirement already satisfied: grpcio>=1.48.2 in /usr/local/lib/python3.10/dist-packages (from tensorboard>=1.14->thai-nner->pythainlp[full]) (1.69.0)\n",
            "Requirement already satisfied: markdown>=2.6.8 in /usr/local/lib/python3.10/dist-packages (from tensorboard>=1.14->thai-nner->pythainlp[full]) (3.7)\n",
            "Requirement already satisfied: tensorboard-data-server<0.8.0,>=0.7.0 in /usr/local/lib/python3.10/dist-packages (from tensorboard>=1.14->thai-nner->pythainlp[full]) (0.7.2)\n",
            "Requirement already satisfied: werkzeug>=1.0.1 in /usr/local/lib/python3.10/dist-packages (from tensorboard>=1.14->thai-nner->pythainlp[full]) (3.1.3)\n",
            "Requirement already satisfied: astunparse>=1.6.0 in /usr/local/lib/python3.10/dist-packages (from tensorflow>=2.0.0->oskut>=1.3->pythainlp[full]) (1.6.3)\n",
            "Requirement already satisfied: gast!=0.5.0,!=0.5.1,!=0.5.2,>=0.2.1 in /usr/local/lib/python3.10/dist-packages (from tensorflow>=2.0.0->oskut>=1.3->pythainlp[full]) (0.6.0)\n",
            "Requirement already satisfied: google-pasta>=0.1.1 in /usr/local/lib/python3.10/dist-packages (from tensorflow>=2.0.0->oskut>=1.3->pythainlp[full]) (0.2.0)\n",
            "Requirement already satisfied: h5py>=3.10.0 in /usr/local/lib/python3.10/dist-packages (from tensorflow>=2.0.0->oskut>=1.3->pythainlp[full]) (3.12.1)\n",
            "Requirement already satisfied: libclang>=13.0.0 in /usr/local/lib/python3.10/dist-packages (from tensorflow>=2.0.0->oskut>=1.3->pythainlp[full]) (18.1.1)\n",
            "Requirement already satisfied: ml-dtypes<0.5.0,>=0.3.1 in /usr/local/lib/python3.10/dist-packages (from tensorflow>=2.0.0->oskut>=1.3->pythainlp[full]) (0.4.1)\n",
            "Requirement already satisfied: opt-einsum>=2.3.2 in /usr/local/lib/python3.10/dist-packages (from tensorflow>=2.0.0->oskut>=1.3->pythainlp[full]) (3.4.0)\n",
            "Requirement already satisfied: keras>=3.2.0 in /usr/local/lib/python3.10/dist-packages (from tensorflow>=2.0.0->oskut>=1.3->pythainlp[full]) (3.5.0)\n",
            "Requirement already satisfied: tensorflow-io-gcs-filesystem>=0.23.1 in /usr/local/lib/python3.10/dist-packages (from tensorflow>=2.0.0->oskut>=1.3->pythainlp[full]) (0.37.1)\n",
            "Requirement already satisfied: blis<0.8.0,>=0.7.8 in /usr/local/lib/python3.10/dist-packages (from thinc<8.3.0,>=8.2.2->spacy>=3.0->pythainlp[full]) (0.7.11)\n",
            "Requirement already satisfied: confection<1.0.0,>=0.0.1 in /usr/local/lib/python3.10/dist-packages (from thinc<8.3.0,>=8.2.2->spacy>=3.0->pythainlp[full]) (0.1.5)\n",
            "Requirement already satisfied: shellingham>=1.3.0 in /usr/local/lib/python3.10/dist-packages (from typer<1.0.0,>=0.3.0->spacy>=3.0->pythainlp[full]) (1.5.4)\n",
            "Requirement already satisfied: rich>=10.11.0 in /usr/local/lib/python3.10/dist-packages (from typer<1.0.0,>=0.3.0->spacy>=3.0->pythainlp[full]) (13.9.4)\n",
            "Requirement already satisfied: cloudpathlib<1.0.0,>=0.7.0 in /usr/local/lib/python3.10/dist-packages (from weasel<0.5.0,>=0.1.0->spacy>=3.0->pythainlp[full]) (0.20.0)\n",
            "Collecting transformers>=4.22.1 (from pythainlp[full])\n",
            "  Downloading transformers-4.45.2-py3-none-any.whl.metadata (44 kB)\n",
            "\u001b[2K     \u001b[90m━━━━━━━━━━━━━━━━━━━━━━━━━━━━━━━━━━━━━━━━\u001b[0m \u001b[32m44.4/44.4 kB\u001b[0m \u001b[31m3.6 MB/s\u001b[0m eta \u001b[36m0:00:00\u001b[0m\n",
            "\u001b[?25hCollecting tokenizers<0.21,>=0.20 (from transformers>=4.22.1->pythainlp[full])\n",
            "  Downloading tokenizers-0.20.3-cp310-cp310-manylinux_2_17_x86_64.manylinux2014_x86_64.whl.metadata (6.7 kB)\n",
            "Requirement already satisfied: soupsieve>1.2 in /usr/local/lib/python3.10/dist-packages (from beautifulsoup4->fastai<2.0->pythainlp[full]) (2.6)\n",
            "Requirement already satisfied: pycparser in /usr/local/lib/python3.10/dist-packages (from cffi->fairseq>=0.10.0->pythainlp[full]) (2.22)\n",
            "Collecting humanfriendly>=9.1 (from coloredlogs->onnxruntime>=1.10.0->pythainlp[full])\n",
            "  Downloading humanfriendly-10.0-py2.py3-none-any.whl.metadata (9.2 kB)\n",
            "Collecting konlpy (from g2pk->epitran>=1.1->pythainlp[full])\n",
            "  Downloading konlpy-0.6.0-py2.py3-none-any.whl.metadata (1.9 kB)\n",
            "Collecting python-mecab-ko (from g2pk->epitran>=1.1->pythainlp[full])\n",
            "  Downloading python_mecab_ko-1.3.7-cp310-cp310-manylinux_2_17_x86_64.manylinux2014_x86_64.whl.metadata (3.4 kB)\n",
            "Requirement already satisfied: MarkupSafe>=2.0 in /usr/local/lib/python3.10/dist-packages (from jinja2->spacy>=3.0->pythainlp[full]) (3.0.2)\n",
            "Requirement already satisfied: contourpy>=1.0.1 in /usr/local/lib/python3.10/dist-packages (from matplotlib->fastai<2.0->pythainlp[full]) (1.3.1)\n",
            "Requirement already satisfied: cycler>=0.10 in /usr/local/lib/python3.10/dist-packages (from matplotlib->fastai<2.0->pythainlp[full]) (0.12.1)\n",
            "Requirement already satisfied: fonttools>=4.22.0 in /usr/local/lib/python3.10/dist-packages (from matplotlib->fastai<2.0->pythainlp[full]) (4.55.3)\n",
            "Requirement already satisfied: kiwisolver>=1.3.1 in /usr/local/lib/python3.10/dist-packages (from matplotlib->fastai<2.0->pythainlp[full]) (1.4.8)\n",
            "Requirement already satisfied: pyparsing>=2.3.1 in /usr/local/lib/python3.10/dist-packages (from matplotlib->fastai<2.0->pythainlp[full]) (3.2.1)\n",
            "Collecting openfile (from mosestokenizer->wtpsplit>=1.0.1->pythainlp[full])\n",
            "  Downloading openfile-0.0.7-py3-none-any.whl.metadata (1.7 kB)\n",
            "Collecting uctools (from mosestokenizer->wtpsplit>=1.0.1->pythainlp[full])\n",
            "  Downloading uctools-1.3.0.tar.gz (4.6 kB)\n",
            "  Preparing metadata (setup.py) ... \u001b[?25l\u001b[?25hdone\n",
            "Collecting toolwrapper (from mosestokenizer->wtpsplit>=1.0.1->pythainlp[full])\n",
            "  Downloading toolwrapper-2.1.0.tar.gz (3.2 kB)\n",
            "  Preparing metadata (setup.py) ... \u001b[?25l\u001b[?25hdone\n",
            "Requirement already satisfied: wheel<1.0,>=0.23.0 in /usr/local/lib/python3.10/dist-packages (from astunparse>=1.6.0->tensorflow>=2.0.0->oskut>=1.3->pythainlp[full]) (0.45.1)\n",
            "Requirement already satisfied: aiohappyeyeballs>=2.3.0 in /usr/local/lib/python3.10/dist-packages (from aiohttp->datasets>=2.5.2->fastcoref>=2.1.5->pythainlp[full]) (2.4.4)\n",
            "Requirement already satisfied: aiosignal>=1.1.2 in /usr/local/lib/python3.10/dist-packages (from aiohttp->datasets>=2.5.2->fastcoref>=2.1.5->pythainlp[full]) (1.3.2)\n",
            "Requirement already satisfied: async-timeout<6.0,>=4.0 in /usr/local/lib/python3.10/dist-packages (from aiohttp->datasets>=2.5.2->fastcoref>=2.1.5->pythainlp[full]) (4.0.3)\n",
            "Requirement already satisfied: attrs>=17.3.0 in /usr/local/lib/python3.10/dist-packages (from aiohttp->datasets>=2.5.2->fastcoref>=2.1.5->pythainlp[full]) (24.3.0)\n",
            "Requirement already satisfied: frozenlist>=1.1.1 in /usr/local/lib/python3.10/dist-packages (from aiohttp->datasets>=2.5.2->fastcoref>=2.1.5->pythainlp[full]) (1.5.0)\n",
            "Requirement already satisfied: multidict<7.0,>=4.5 in /usr/local/lib/python3.10/dist-packages (from aiohttp->datasets>=2.5.2->fastcoref>=2.1.5->pythainlp[full]) (6.1.0)\n",
            "Requirement already satisfied: propcache>=0.2.0 in /usr/local/lib/python3.10/dist-packages (from aiohttp->datasets>=2.5.2->fastcoref>=2.1.5->pythainlp[full]) (0.2.1)\n",
            "Requirement already satisfied: yarl<2.0,>=1.17.0 in /usr/local/lib/python3.10/dist-packages (from aiohttp->datasets>=2.5.2->fastcoref>=2.1.5->pythainlp[full]) (1.18.3)\n",
            "Requirement already satisfied: namex in /usr/local/lib/python3.10/dist-packages (from keras>=3.2.0->tensorflow>=2.0.0->oskut>=1.3->pythainlp[full]) (0.0.8)\n",
            "Requirement already satisfied: optree in /usr/local/lib/python3.10/dist-packages (from keras>=3.2.0->tensorflow>=2.0.0->oskut>=1.3->pythainlp[full]) (0.13.1)\n",
            "Requirement already satisfied: markdown-it-py>=2.2.0 in /usr/local/lib/python3.10/dist-packages (from rich>=10.11.0->typer<1.0.0,>=0.3.0->spacy>=3.0->pythainlp[full]) (3.0.0)\n",
            "Requirement already satisfied: pygments<3.0.0,>=2.13.0 in /usr/local/lib/python3.10/dist-packages (from rich>=10.11.0->typer<1.0.0,>=0.3.0->spacy>=3.0->pythainlp[full]) (2.18.0)\n",
            "Collecting JPype1>=0.7.0 (from konlpy->g2pk->epitran>=1.1->pythainlp[full])\n",
            "  Downloading jpype1-1.5.1-cp310-cp310-manylinux_2_17_x86_64.manylinux2014_x86_64.whl.metadata (4.9 kB)\n",
            "Collecting python-mecab-ko-dic (from python-mecab-ko->g2pk->epitran>=1.1->pythainlp[full])\n",
            "  Downloading python_mecab_ko_dic-2.1.1.post2-py3-none-any.whl.metadata (1.4 kB)\n",
            "Requirement already satisfied: mdurl~=0.1 in /usr/local/lib/python3.10/dist-packages (from markdown-it-py>=2.2.0->rich>=10.11.0->typer<1.0.0,>=0.3.0->spacy>=3.0->pythainlp[full]) (0.1.2)\n",
            "Downloading attacut-1.0.6-py3-none-any.whl (1.3 MB)\n",
            "\u001b[2K   \u001b[90m━━━━━━━━━━━━━━━━━━━━━━━━━━━━━━━━━━━━━━━━\u001b[0m \u001b[32m1.3/1.3 MB\u001b[0m \u001b[31m54.7 MB/s\u001b[0m eta \u001b[36m0:00:00\u001b[0m\n",
            "\u001b[?25hDownloading bpemb-0.3.6-py3-none-any.whl (20 kB)\n",
            "Downloading epitran-1.25.1-py2.py3-none-any.whl (184 kB)\n",
            "\u001b[2K   \u001b[90m━━━━━━━━━━━━━━━━━━━━━━━━━━━━━━━━━━━━━━━━\u001b[0m \u001b[32m184.1/184.1 kB\u001b[0m \u001b[31m13.4 MB/s\u001b[0m eta \u001b[36m0:00:00\u001b[0m\n",
            "\u001b[?25hDownloading fastai-1.0.61-py3-none-any.whl (239 kB)\n",
            "\u001b[2K   \u001b[90m━━━━━━━━━━━━━━━━━━━━━━━━━━━━━━━━━━━━━━━━\u001b[0m \u001b[32m239.2/239.2 kB\u001b[0m \u001b[31m17.5 MB/s\u001b[0m eta \u001b[36m0:00:00\u001b[0m\n",
            "\u001b[?25hDownloading KhamYo-0.3.0-py3-none-any.whl (13 kB)\n",
            "Downloading nlpo3-1.3.1-cp310-cp310-manylinux_2_17_x86_64.manylinux2014_x86_64.whl (819 kB)\n",
            "\u001b[2K   \u001b[90m━━━━━━━━━━━━━━━━━━━━━━━━━━━━━━━━━━━━━━━━\u001b[0m \u001b[32m819.2/819.2 kB\u001b[0m \u001b[31m40.5 MB/s\u001b[0m eta \u001b[36m0:00:00\u001b[0m\n",
            "\u001b[?25hDownloading onnxruntime-1.20.1-cp310-cp310-manylinux_2_27_x86_64.manylinux_2_28_x86_64.whl (13.3 MB)\n",
            "\u001b[2K   \u001b[90m━━━━━━━━━━━━━━━━━━━━━━━━━━━━━━━━━━━━━━━━\u001b[0m \u001b[32m13.3/13.3 MB\u001b[0m \u001b[31m83.6 MB/s\u001b[0m eta \u001b[36m0:00:00\u001b[0m\n",
            "\u001b[?25hDownloading OSKut-1.3-py3-none-any.whl (44.2 MB)\n",
            "\u001b[2K   \u001b[90m━━━━━━━━━━━━━━━━━━━━━━━━━━━━━━━━━━━━━━━━\u001b[0m \u001b[32m44.2/44.2 MB\u001b[0m \u001b[31m14.8 MB/s\u001b[0m eta \u001b[36m0:00:00\u001b[0m\n",
            "\u001b[?25hDownloading panphon-0.21.2-py2.py3-none-any.whl (75 kB)\n",
            "\u001b[2K   \u001b[90m━━━━━━━━━━━━━━━━━━━━━━━━━━━━━━━━━━━━━━━━\u001b[0m \u001b[32m75.4/75.4 kB\u001b[0m \u001b[31m5.7 MB/s\u001b[0m eta \u001b[36m0:00:00\u001b[0m\n",
            "\u001b[?25hDownloading pythainlp-5.0.5-py3-none-any.whl (17.9 MB)\n",
            "\u001b[2K   \u001b[90m━━━━━━━━━━━━━━━━━━━━━━━━━━━━━━━━━━━━━━━━\u001b[0m \u001b[32m17.9/17.9 MB\u001b[0m \u001b[31m53.7 MB/s\u001b[0m eta \u001b[36m0:00:00\u001b[0m\n",
            "\u001b[?25hDownloading sacremoses-0.1.1-py3-none-any.whl (897 kB)\n",
            "\u001b[2K   \u001b[90m━━━━━━━━━━━━━━━━━━━━━━━━━━━━━━━━━━━━━━━━\u001b[0m \u001b[32m897.5/897.5 kB\u001b[0m \u001b[31m40.9 MB/s\u001b[0m eta \u001b[36m0:00:00\u001b[0m\n",
            "\u001b[?25hDownloading SEFR_CUT-1.1-py3-none-any.whl (8.7 MB)\n",
            "\u001b[2K   \u001b[90m━━━━━━━━━━━━━━━━━━━━━━━━━━━━━━━━━━━━━━━━\u001b[0m \u001b[32m8.7/8.7 MB\u001b[0m \u001b[31m67.2 MB/s\u001b[0m eta \u001b[36m0:00:00\u001b[0m\n",
            "\u001b[?25hDownloading spacy_thai-0.7.8-py3-none-any.whl (15.7 MB)\n",
            "\u001b[2K   \u001b[90m━━━━━━━━━━━━━━━━━━━━━━━━━━━━━━━━━━━━━━━━\u001b[0m \u001b[32m15.7/15.7 MB\u001b[0m \u001b[31m57.5 MB/s\u001b[0m eta \u001b[36m0:00:00\u001b[0m\n",
            "\u001b[?25hDownloading spylls-0.1.7-py2.py3-none-any.whl (1.5 MB)\n",
            "\u001b[2K   \u001b[90m━━━━━━━━━━━━━━━━━━━━━━━━━━━━━━━━━━━━━━━━\u001b[0m \u001b[32m1.5/1.5 MB\u001b[0m \u001b[31m44.7 MB/s\u001b[0m eta \u001b[36m0:00:00\u001b[0m\n",
            "\u001b[?25hDownloading ssg-0.0.8-py3-none-any.whl (473 kB)\n",
            "\u001b[2K   \u001b[90m━━━━━━━━━━━━━━━━━━━━━━━━━━━━━━━━━━━━━━━━\u001b[0m \u001b[32m473.8/473.8 kB\u001b[0m \u001b[31m28.6 MB/s\u001b[0m eta \u001b[36m0:00:00\u001b[0m\n",
            "\u001b[?25hDownloading symspellpy-6.7.8-py3-none-any.whl (2.6 MB)\n",
            "\u001b[2K   \u001b[90m━━━━━━━━━━━━━━━━━━━━━━━━━━━━━━━━━━━━━━━━\u001b[0m \u001b[32m2.6/2.6 MB\u001b[0m \u001b[31m51.8 MB/s\u001b[0m eta \u001b[36m0:00:00\u001b[0m\n",
            "\u001b[?25hDownloading ufal.chu_liu_edmonds-1.0.3-cp310-cp310-manylinux_2_17_x86_64.manylinux2014_x86_64.whl (116 kB)\n",
            "\u001b[2K   \u001b[90m━━━━━━━━━━━━━━━━━━━━━━━━━━━━━━━━━━━━━━━━\u001b[0m \u001b[32m117.0/117.0 kB\u001b[0m \u001b[31m5.2 MB/s\u001b[0m eta \u001b[36m0:00:00\u001b[0m\n",
            "\u001b[?25hDownloading wtpsplit-2.1.2-py3-none-any.whl (123 kB)\n",
            "\u001b[2K   \u001b[90m━━━━━━━━━━━━━━━━━━━━━━━━━━━━━━━━━━━━━━━━\u001b[0m \u001b[32m123.5/123.5 kB\u001b[0m \u001b[31m10.6 MB/s\u001b[0m eta \u001b[36m0:00:00\u001b[0m\n",
            "\u001b[?25hDownloading huggingface_hub-0.25.2-py3-none-any.whl (436 kB)\n",
            "\u001b[2K   \u001b[90m━━━━━━━━━━━━━━━━━━━━━━━━━━━━━━━━━━━━━━━━\u001b[0m \u001b[32m436.6/436.6 kB\u001b[0m \u001b[31m24.3 MB/s\u001b[0m eta \u001b[36m0:00:00\u001b[0m\n",
            "\u001b[?25hDownloading wunsen-0.0.3-py3-none-any.whl (21 kB)\n",
            "Downloading thai_nner-0.3-py3-none-any.whl (2.2 MB)\n",
            "\u001b[2K   \u001b[90m━━━━━━━━━━━━━━━━━━━━━━━━━━━━━━━━━━━━━━━━\u001b[0m \u001b[32m2.2/2.2 MB\u001b[0m \u001b[31m58.4 MB/s\u001b[0m eta \u001b[36m0:00:00\u001b[0m\n",
            "\u001b[?25hDownloading datasets-3.2.0-py3-none-any.whl (480 kB)\n",
            "\u001b[2K   \u001b[90m━━━━━━━━━━━━━━━━━━━━━━━━━━━━━━━━━━━━━━━━\u001b[0m \u001b[32m480.6/480.6 kB\u001b[0m \u001b[31m27.3 MB/s\u001b[0m eta \u001b[36m0:00:00\u001b[0m\n",
            "\u001b[?25hDownloading deplacy-2.1.0-py3-none-any.whl (22 kB)\n",
            "Downloading editdistpy-0.1.5-cp310-cp310-manylinux_2_5_x86_64.manylinux1_x86_64.manylinux_2_17_x86_64.manylinux2014_x86_64.whl (144 kB)\n",
            "\u001b[2K   \u001b[90m━━━━━━━━━━━━━━━━━━━━━━━━━━━━━━━━━━━━━━━━\u001b[0m \u001b[32m144.1/144.1 kB\u001b[0m \u001b[31m10.7 MB/s\u001b[0m eta \u001b[36m0:00:00\u001b[0m\n",
            "\u001b[?25hDownloading fsspec-2024.9.0-py3-none-any.whl (179 kB)\n",
            "\u001b[2K   \u001b[90m━━━━━━━━━━━━━━━━━━━━━━━━━━━━━━━━━━━━━━━━\u001b[0m \u001b[32m179.3/179.3 kB\u001b[0m \u001b[31m13.0 MB/s\u001b[0m eta \u001b[36m0:00:00\u001b[0m\n",
            "\u001b[?25hDownloading hydra_core-1.0.7-py3-none-any.whl (123 kB)\n",
            "\u001b[2K   \u001b[90m━━━━━━━━━━━━━━━━━━━━━━━━━━━━━━━━━━━━━━━━\u001b[0m \u001b[32m123.8/123.8 kB\u001b[0m \u001b[31m9.8 MB/s\u001b[0m eta \u001b[36m0:00:00\u001b[0m\n",
            "\u001b[?25hDownloading khanaa-0.1.1-py3-none-any.whl (34 kB)\n",
            "Downloading nptyping-2.5.0-py3-none-any.whl (37 kB)\n",
            "Downloading omegaconf-2.0.6-py3-none-any.whl (36 kB)\n",
            "Downloading python_crfsuite-0.9.11-cp310-cp310-manylinux_2_17_x86_64.manylinux2014_x86_64.whl (1.2 MB)\n",
            "\u001b[2K   \u001b[90m━━━━━━━━━━━━━━━━━━━━━━━━━━━━━━━━━━━━━━━━\u001b[0m \u001b[32m1.2/1.2 MB\u001b[0m \u001b[31m46.3 MB/s\u001b[0m eta \u001b[36m0:00:00\u001b[0m\n",
            "\u001b[?25hDownloading sacrebleu-2.5.1-py3-none-any.whl (104 kB)\n",
            "\u001b[2K   \u001b[90m━━━━━━━━━━━━━━━━━━━━━━━━━━━━━━━━━━━━━━━━\u001b[0m \u001b[32m104.1/104.1 kB\u001b[0m \u001b[31m9.1 MB/s\u001b[0m eta \u001b[36m0:00:00\u001b[0m\n",
            "\u001b[?25hDownloading ufal.udpipe-1.3.1.1-cp310-cp310-manylinux_2_17_x86_64.manylinux2014_x86_64.whl (936 kB)\n",
            "\u001b[2K   \u001b[90m━━━━━━━━━━━━━━━━━━━━━━━━━━━━━━━━━━━━━━━━\u001b[0m \u001b[32m936.8/936.8 kB\u001b[0m \u001b[31m40.3 MB/s\u001b[0m eta \u001b[36m0:00:00\u001b[0m\n",
            "\u001b[?25hDownloading adapters-1.0.1-py3-none-any.whl (283 kB)\n",
            "\u001b[2K   \u001b[90m━━━━━━━━━━━━━━━━━━━━━━━━━━━━━━━━━━━━━━━━\u001b[0m \u001b[32m283.7/283.7 kB\u001b[0m \u001b[31m18.0 MB/s\u001b[0m eta \u001b[36m0:00:00\u001b[0m\n",
            "\u001b[?25hDownloading transformers-4.45.2-py3-none-any.whl (9.9 MB)\n",
            "\u001b[2K   \u001b[90m━━━━━━━━━━━━━━━━━━━━━━━━━━━━━━━━━━━━━━━━\u001b[0m \u001b[32m9.9/9.9 MB\u001b[0m \u001b[31m61.2 MB/s\u001b[0m eta \u001b[36m0:00:00\u001b[0m\n",
            "\u001b[?25hDownloading tokenizers-0.20.3-cp310-cp310-manylinux_2_17_x86_64.manylinux2014_x86_64.whl (3.0 MB)\n",
            "\u001b[2K   \u001b[90m━━━━━━━━━━━━━━━━━━━━━━━━━━━━━━━━━━━━━━━━\u001b[0m \u001b[32m3.0/3.0 MB\u001b[0m \u001b[31m55.8 MB/s\u001b[0m eta \u001b[36m0:00:00\u001b[0m\n",
            "\u001b[?25hDownloading bitarray-3.0.0-cp310-cp310-manylinux_2_17_x86_64.manylinux2014_x86_64.whl (278 kB)\n",
            "\u001b[2K   \u001b[90m━━━━━━━━━━━━━━━━━━━━━━━━━━━━━━━━━━━━━━━━\u001b[0m \u001b[32m278.3/278.3 kB\u001b[0m \u001b[31m18.4 MB/s\u001b[0m eta \u001b[36m0:00:00\u001b[0m\n",
            "\u001b[?25hDownloading cached_property-2.0.1-py3-none-any.whl (7.4 kB)\n",
            "Downloading coloredlogs-15.0.1-py2.py3-none-any.whl (46 kB)\n",
            "\u001b[2K   \u001b[90m━━━━━━━━━━━━━━━━━━━━━━━━━━━━━━━━━━━━━━━━\u001b[0m \u001b[32m46.0/46.0 kB\u001b[0m \u001b[31m3.2 MB/s\u001b[0m eta \u001b[36m0:00:00\u001b[0m\n",
            "\u001b[?25hDownloading g2pK-0.9.4-py3-none-any.whl (27 kB)\n",
            "Downloading jamo-0.4.1-py3-none-any.whl (9.5 kB)\n",
            "Downloading munkres-1.1.4-py2.py3-none-any.whl (7.0 kB)\n",
            "Downloading skops-0.11.0-py3-none-any.whl (146 kB)\n",
            "\u001b[2K   \u001b[90m━━━━━━━━━━━━━━━━━━━━━━━━━━━━━━━━━━━━━━━━\u001b[0m \u001b[32m147.0/147.0 kB\u001b[0m \u001b[31m7.9 MB/s\u001b[0m eta \u001b[36m0:00:00\u001b[0m\n",
            "\u001b[?25hDownloading dill-0.3.8-py3-none-any.whl (116 kB)\n",
            "\u001b[2K   \u001b[90m━━━━━━━━━━━━━━━━━━━━━━━━━━━━━━━━━━━━━━━━\u001b[0m \u001b[32m116.3/116.3 kB\u001b[0m \u001b[31m10.2 MB/s\u001b[0m eta \u001b[36m0:00:00\u001b[0m\n",
            "\u001b[?25hDownloading humanfriendly-10.0-py2.py3-none-any.whl (86 kB)\n",
            "\u001b[2K   \u001b[90m━━━━━━━━━━━━━━━━━━━━━━━━━━━━━━━━━━━━━━━━\u001b[0m \u001b[32m86.8/86.8 kB\u001b[0m \u001b[31m7.2 MB/s\u001b[0m eta \u001b[36m0:00:00\u001b[0m\n",
            "\u001b[?25hDownloading multiprocess-0.70.16-py310-none-any.whl (134 kB)\n",
            "\u001b[2K   \u001b[90m━━━━━━━━━━━━━━━━━━━━━━━━━━━━━━━━━━━━━━━━\u001b[0m \u001b[32m134.8/134.8 kB\u001b[0m \u001b[31m11.9 MB/s\u001b[0m eta \u001b[36m0:00:00\u001b[0m\n",
            "\u001b[?25hDownloading colorama-0.4.6-py2.py3-none-any.whl (25 kB)\n",
            "Downloading konlpy-0.6.0-py2.py3-none-any.whl (19.4 MB)\n",
            "\u001b[2K   \u001b[90m━━━━━━━━━━━━━━━━━━━━━━━━━━━━━━━━━━━━━━━━\u001b[0m \u001b[32m19.4/19.4 MB\u001b[0m \u001b[31m21.1 MB/s\u001b[0m eta \u001b[36m0:00:00\u001b[0m\n",
            "\u001b[?25hDownloading openfile-0.0.7-py3-none-any.whl (2.4 kB)\n",
            "Downloading portalocker-3.1.1-py3-none-any.whl (19 kB)\n",
            "Downloading python_mecab_ko-1.3.7-cp310-cp310-manylinux_2_17_x86_64.manylinux2014_x86_64.whl (577 kB)\n",
            "\u001b[2K   \u001b[90m━━━━━━━━━━━━━━━━━━━━━━━━━━━━━━━━━━━━━━━━\u001b[0m \u001b[32m577.1/577.1 kB\u001b[0m \u001b[31m36.2 MB/s\u001b[0m eta \u001b[36m0:00:00\u001b[0m\n",
            "\u001b[?25hDownloading xxhash-3.5.0-cp310-cp310-manylinux_2_17_x86_64.manylinux2014_x86_64.whl (194 kB)\n",
            "\u001b[2K   \u001b[90m━━━━━━━━━━━━━━━━━━━━━━━━━━━━━━━━━━━━━━━━\u001b[0m \u001b[32m194.1/194.1 kB\u001b[0m \u001b[31m14.2 MB/s\u001b[0m eta \u001b[36m0:00:00\u001b[0m\n",
            "\u001b[?25hDownloading jpype1-1.5.1-cp310-cp310-manylinux_2_17_x86_64.manylinux2014_x86_64.whl (493 kB)\n",
            "\u001b[2K   \u001b[90m━━━━━━━━━━━━━━━━━━━━━━━━━━━━━━━━━━━━━━━━\u001b[0m \u001b[32m493.8/493.8 kB\u001b[0m \u001b[31m32.5 MB/s\u001b[0m eta \u001b[36m0:00:00\u001b[0m\n",
            "\u001b[?25hDownloading python_mecab_ko_dic-2.1.1.post2-py3-none-any.whl (34.5 MB)\n",
            "\u001b[2K   \u001b[90m━━━━━━━━━━━━━━━━━━━━━━━━━━━━━━━━━━━━━━━━\u001b[0m \u001b[32m34.5/34.5 MB\u001b[0m \u001b[31m19.5 MB/s\u001b[0m eta \u001b[36m0:00:00\u001b[0m\n",
            "\u001b[?25hBuilding wheels for collected packages: fairseq, fastcoref, phunspell, pyicu, docopt, fire, antlr4-python3-runtime, pyahocorasick, mosestokenizer, nvidia-ml-py3, unicodecsv, toolwrapper, uctools\n",
            "  Building wheel for fairseq (pyproject.toml) ... \u001b[?25l\u001b[?25hdone\n",
            "  Created wheel for fairseq: filename=fairseq-0.12.2-cp310-cp310-linux_x86_64.whl size=11288661 sha256=14700f91bb0b525a4fac428d3fb31be90027fe7443034fcf3ad39620dddd16da\n",
            "  Stored in directory: /root/.cache/pip/wheels/e4/35/55/9c66f65ec7c83fd6fbc2b9502a0ac81b2448a1196159dacc32\n",
            "  Building wheel for fastcoref (setup.py) ... \u001b[?25l\u001b[?25hdone\n",
            "  Created wheel for fastcoref: filename=fastcoref-2.1.6-py3-none-any.whl size=31255 sha256=5209b50bc7eaac7f66dbda6356b857557d68a987948b0f618c95aff76d982393\n",
            "  Stored in directory: /root/.cache/pip/wheels/73/ac/49/24d3e434b85513f46503fbea7e7eb6353e32b66619ea86b410\n",
            "  Building wheel for phunspell (pyproject.toml) ... \u001b[?25l\u001b[?25hdone\n",
            "  Created wheel for phunspell: filename=phunspell-0.1.6-py3-none-any.whl size=47556264 sha256=6cf3314496848fc1b5672ea8f4b632917d8c11a011f8b30f6d8fc8cf6a3aea11\n",
            "  Stored in directory: /root/.cache/pip/wheels/fd/4b/8b/24576e5451edf7f3f6b15492ace089f4f4353e6289fb923a7d\n",
            "  Building wheel for pyicu (pyproject.toml) ... \u001b[?25l\u001b[?25hdone\n",
            "  Created wheel for pyicu: filename=PyICU-2.14-cp310-cp310-linux_x86_64.whl size=1809886 sha256=b217884650b23e714fe206127ca8d00a5f36d5367824d9666358d7e72c4dd6c8\n",
            "  Stored in directory: /root/.cache/pip/wheels/78/6e/76/17c73021179c06c29d9b108896b9248da0de4f2af93f63d405\n",
            "  Building wheel for docopt (setup.py) ... \u001b[?25l\u001b[?25hdone\n",
            "  Created wheel for docopt: filename=docopt-0.6.2-py2.py3-none-any.whl size=13706 sha256=215cdc122c863a4e7c23d998df4f0b08418b58a655cfb509bab726093d5cc3a3\n",
            "  Stored in directory: /root/.cache/pip/wheels/fc/ab/d4/5da2067ac95b36618c629a5f93f809425700506f72c9732fac\n",
            "  Building wheel for fire (setup.py) ... \u001b[?25l\u001b[?25hdone\n",
            "  Created wheel for fire: filename=fire-0.7.0-py3-none-any.whl size=114249 sha256=2f3779b938516d1e4f882337f7450aba51c460f9aafd6e1835c71b9039c191da\n",
            "  Stored in directory: /root/.cache/pip/wheels/19/39/2f/2d3cadc408a8804103f1c34ddd4b9f6a93497b11fa96fe738e\n",
            "  Building wheel for antlr4-python3-runtime (setup.py) ... \u001b[?25l\u001b[?25hdone\n",
            "  Created wheel for antlr4-python3-runtime: filename=antlr4_python3_runtime-4.8-py3-none-any.whl size=141214 sha256=4253c57abc4792588738f52184e947451b8eb4c6895b51c1685c816d9bc7ac13\n",
            "  Stored in directory: /root/.cache/pip/wheels/a7/20/bd/e1477d664f22d99989fd28ee1a43d6633dddb5cb9e801350d5\n",
            "  Building wheel for pyahocorasick (setup.py) ... \u001b[?25l\u001b[?25hdone\n",
            "  Created wheel for pyahocorasick: filename=pyahocorasick-1.4.0-cp310-cp310-linux_x86_64.whl size=90334 sha256=6adda8af4deca366158e40d06156773dbc82b4712f1988e0259576457a535356\n",
            "  Stored in directory: /root/.cache/pip/wheels/d9/2c/59/a06c8cb22b93704fbb6c96a4bd68e71b43bb7a4bc2f0410d81\n",
            "  Building wheel for mosestokenizer (setup.py) ... \u001b[?25l\u001b[?25hdone\n",
            "  Created wheel for mosestokenizer: filename=mosestokenizer-1.2.1-py3-none-any.whl size=49171 sha256=20fc16cbf9743f7c1dae2f357ac381fa2e5979b415d42419dfe75c36ae648f33\n",
            "  Stored in directory: /root/.cache/pip/wheels/80/d8/15/4c5ebbe883513f003cb055a0369c77c9df857023a706f39e70\n",
            "  Building wheel for nvidia-ml-py3 (setup.py) ... \u001b[?25l\u001b[?25hdone\n",
            "  Created wheel for nvidia-ml-py3: filename=nvidia_ml_py3-7.352.0-py3-none-any.whl size=19173 sha256=cb3e3909f013405a47220202f2db52d798a07343877999cc83547ab3066c7bf5\n",
            "  Stored in directory: /root/.cache/pip/wheels/5c/d8/c0/46899f8be7a75a2ffd197a23c8797700ea858b9b34819fbf9e\n",
            "  Building wheel for unicodecsv (setup.py) ... \u001b[?25l\u001b[?25hdone\n",
            "  Created wheel for unicodecsv: filename=unicodecsv-0.14.1-py3-none-any.whl size=10744 sha256=7dcfcaf6d1faefda778e3b10f8e157f2972e03c014ef413adcacde858b076f13\n",
            "  Stored in directory: /root/.cache/pip/wheels/9c/ea/66/8e45247b09052a933eb1a680b7c64802298faba58aac9b346b\n",
            "  Building wheel for toolwrapper (setup.py) ... \u001b[?25l\u001b[?25hdone\n",
            "  Created wheel for toolwrapper: filename=toolwrapper-2.1.0-py3-none-any.whl size=3338 sha256=0514bbd5a63863641ed898fcaf9a4c4feec151cc5b8be92d00a32836f94f7716\n",
            "  Stored in directory: /root/.cache/pip/wheels/e1/af/b1/99b57a06dda78fdcee86d2e22c64743f3b8df8f31cfc04baf7\n",
            "  Building wheel for uctools (setup.py) ... \u001b[?25l\u001b[?25hdone\n",
            "  Created wheel for uctools: filename=uctools-1.3.0-py3-none-any.whl size=6147 sha256=381caf816009c65ead649b8f81c569a771029ad1ad5e3fb199ca0a6cd3846e22\n",
            "  Stored in directory: /root/.cache/pip/wheels/05/ee/10/33257b0801ac6a912c841939032c16da1eb3db377afe1443e5\n",
            "Successfully built fairseq fastcoref phunspell pyicu docopt fire antlr4-python3-runtime pyahocorasick mosestokenizer nvidia-ml-py3 unicodecsv toolwrapper uctools\n",
            "\u001b[33mDEPRECATION: omegaconf 2.0.6 has a non-standard dependency specifier PyYAML>=5.1.*. pip 24.1 will enforce this behaviour change. A possible replacement is to upgrade to a newer version of omegaconf or contact the author to suggest that they release a version with a conforming dependency specifiers. Discussion can be found at https://github.com/pypa/pip/issues/12063\u001b[0m\u001b[33m\n",
            "\u001b[0mInstalling collected packages: unicodecsv, ufal.udpipe, ufal.chu-liu-edmonds, toolwrapper, python-mecab-ko-dic, pyicu, pyahocorasick, openfile, nvidia-ml-py3, munkres, jamo, docopt, bitarray, antlr4-python3-runtime, xxhash, uctools, spylls, sacremoses, python-mecab-ko, python-crfsuite, portalocker, panphon, omegaconf, nptyping, nlpo3, khanaa, JPype1, humanfriendly, fsspec, fire, editdistpy, dill, deplacy, colorama, cached_property, wunsen, symspellpy, ssg, sacrebleu, pythainlp, phunspell, multiprocess, mosestokenizer, konlpy, hydra-core, huggingface-hub, coloredlogs, tokenizers, skops, onnxruntime, g2pk, bpemb, attacut, transformers, fastai, fairseq, epitran, thai-nner, sefr-cut, oskut, datasets, adapters, wtpsplit, spacy-thai, khamyo, fastcoref\n",
            "  Attempting uninstall: fsspec\n",
            "    Found existing installation: fsspec 2024.10.0\n",
            "    Uninstalling fsspec-2024.10.0:\n",
            "      Successfully uninstalled fsspec-2024.10.0\n",
            "  Attempting uninstall: huggingface-hub\n",
            "    Found existing installation: huggingface-hub 0.27.1\n",
            "    Uninstalling huggingface-hub-0.27.1:\n",
            "      Successfully uninstalled huggingface-hub-0.27.1\n",
            "  Attempting uninstall: tokenizers\n",
            "    Found existing installation: tokenizers 0.21.0\n",
            "    Uninstalling tokenizers-0.21.0:\n",
            "      Successfully uninstalled tokenizers-0.21.0\n",
            "  Attempting uninstall: transformers\n",
            "    Found existing installation: transformers 4.47.1\n",
            "    Uninstalling transformers-4.47.1:\n",
            "      Successfully uninstalled transformers-4.47.1\n",
            "  Attempting uninstall: fastai\n",
            "    Found existing installation: fastai 2.7.18\n",
            "    Uninstalling fastai-2.7.18:\n",
            "      Successfully uninstalled fastai-2.7.18\n",
            "\u001b[31mERROR: pip's dependency resolver does not currently take into account all the packages that are installed. This behaviour is the source of the following dependency conflicts.\n",
            "gcsfs 2024.10.0 requires fsspec==2024.10.0, but you have fsspec 2024.9.0 which is incompatible.\u001b[0m\u001b[31m\n",
            "\u001b[0mSuccessfully installed JPype1-1.5.1 adapters-1.0.1 antlr4-python3-runtime-4.8 attacut-1.0.6 bitarray-3.0.0 bpemb-0.3.6 cached_property-2.0.1 colorama-0.4.6 coloredlogs-15.0.1 datasets-3.2.0 deplacy-2.1.0 dill-0.3.8 docopt-0.6.2 editdistpy-0.1.5 epitran-1.25.1 fairseq-0.12.2 fastai-1.0.61 fastcoref-2.1.6 fire-0.7.0 fsspec-2024.9.0 g2pk-0.9.4 huggingface-hub-0.25.2 humanfriendly-10.0 hydra-core-1.0.7 jamo-0.4.1 khamyo-0.3.0 khanaa-0.1.1 konlpy-0.6.0 mosestokenizer-1.2.1 multiprocess-0.70.16 munkres-1.1.4 nlpo3-1.3.1 nptyping-2.5.0 nvidia-ml-py3-7.352.0 omegaconf-2.0.6 onnxruntime-1.20.1 openfile-0.0.7 oskut-1.3 panphon-0.21.2 phunspell-0.1.6 portalocker-3.1.1 pyahocorasick-1.4.0 pyicu-2.14 pythainlp-5.0.5 python-crfsuite-0.9.11 python-mecab-ko-1.3.7 python-mecab-ko-dic-2.1.1.post2 sacrebleu-2.5.1 sacremoses-0.1.1 sefr-cut-1.1 skops-0.11.0 spacy-thai-0.7.8 spylls-0.1.7 ssg-0.0.8 symspellpy-6.7.8 thai-nner-0.3 tokenizers-0.20.3 toolwrapper-2.1.0 transformers-4.45.2 uctools-1.3.0 ufal.chu-liu-edmonds-1.0.3 ufal.udpipe-1.3.1.1 unicodecsv-0.14.1 wtpsplit-2.1.2 wunsen-0.0.3 xxhash-3.5.0\n"
          ]
        }
      ]
    },
    {
      "cell_type": "code",
      "source": [
        "!pip show pythainlp"
      ],
      "metadata": {
        "colab": {
          "base_uri": "https://localhost:8080/"
        },
        "collapsed": true,
        "id": "fbDauxoKnwP0",
        "outputId": "abb73d59-d8ba-4a62-92cd-deaacf519e9a"
      },
      "execution_count": null,
      "outputs": [
        {
          "output_type": "stream",
          "name": "stdout",
          "text": [
            "Name: pythainlp\n",
            "Version: 5.0.5\n",
            "Summary: Thai Natural Language Processing library\n",
            "Home-page: https://github.com/PyThaiNLP/pythainlp\n",
            "Author: PyThaiNLP\n",
            "Author-email: email@wannaphong.com\n",
            "License: Apache Software License 2.0\n",
            "Location: /usr/local/lib/python3.10/dist-packages\n",
            "Requires: requests\n",
            "Required-by: KhamYo, spacy-thai, thai-nner\n"
          ]
        }
      ]
    },
    {
      "cell_type": "markdown",
      "source": [
        "#### pipe deepcut"
      ],
      "metadata": {
        "id": "lzsSJaSexOIl"
      }
    },
    {
      "cell_type": "code",
      "source": [
        "!pip install deepcut"
      ],
      "metadata": {
        "id": "d2NY0FZDypSc"
      },
      "execution_count": null,
      "outputs": []
    },
    {
      "cell_type": "markdown",
      "source": [
        "#### pythainlp"
      ],
      "metadata": {
        "id": "egtHiIrUw7qZ"
      }
    },
    {
      "cell_type": "code",
      "source": [
        "from pythainlp import word_tokenize\n",
        "\n",
        "tokens_newmm = word_tokenize(text , engine=\"newmm\")\n",
        "tokens_deepcut = word_tokenize(text , engine=\"deepcut\")\n",
        "tokens_attacut = word_tokenize(text , engine=\"attacut\")\n",
        "\n",
        "\n",
        "print(\"newmm : \" , tokens_newmm)\n",
        "print(\"deepcut : \" , tokens_deepcut)\n",
        "print(\"attacut : \" , tokens_attacut)"
      ],
      "metadata": {
        "colab": {
          "base_uri": "https://localhost:8080/"
        },
        "id": "_wq0BdCOnA4P",
        "outputId": "8d747e06-0b26-45ec-b664-443eee64a13e"
      },
      "execution_count": null,
      "outputs": [
        {
          "output_type": "stream",
          "name": "stderr",
          "text": [
            "/usr/local/lib/python3.10/dist-packages/keras/src/layers/core/embedding.py:90: UserWarning: Argument `input_length` is deprecated. Just remove it.\n",
            "  warnings.warn(\n",
            "/usr/local/lib/python3.10/dist-packages/keras/src/layers/core/dense.py:87: UserWarning: Do not pass an `input_shape`/`input_dim` argument to a layer. When using Sequential models, prefer using an `Input(shape)` object as the first layer in the model instead.\n",
            "  super().__init__(activity_regularizer=activity_regularizer, **kwargs)\n"
          ]
        },
        {
          "output_type": "stream",
          "name": "stdout",
          "text": [
            "\u001b[1m33/33\u001b[0m \u001b[32m━━━━━━━━━━━━━━━━━━━━\u001b[0m\u001b[37m\u001b[0m \u001b[1m9s\u001b[0m 185ms/step\n"
          ]
        },
        {
          "output_type": "stream",
          "name": "stderr",
          "text": [
            "/usr/local/lib/python3.10/dist-packages/attacut/models/__init__.py:60: FutureWarning: You are using `torch.load` with `weights_only=False` (the current default value), which uses the default pickle module implicitly. It is possible to construct malicious pickle data which will execute arbitrary code during unpickling (See https://github.com/pytorch/pytorch/blob/main/SECURITY.md#untrusted-models for more details). In a future release, the default value for `weights_only` will be flipped to `True`. This limits the functions that could be executed during unpickling. Arbitrary objects will no longer be allowed to be loaded via this mode unless they are explicitly allowlisted by the user via `torch.serialization.add_safe_globals`. We recommend you start setting `weights_only=True` for any use case where you don't have full control of the loaded file. Please open an issue on GitHub for any issues related to this experimental feature.\n",
            "  model.load_state_dict(torch.load(model_path, map_location=\"cpu\"))\n"
          ]
        },
        {
          "output_type": "stream",
          "name": "stdout",
          "text": [
            "newmm :  ['เมื่อวาน', 'นี้', ' ', '5', ' ', 'มค', ' ', '2025', ' ', 'ฉัน', 'เดินทาง', 'ไป', 'ยัง', 'ศูนย์การค้า', ' ', 'ICONSIAM', ' ', 'เพื่อ', 'ซื้อ', 'ของขวัญ', 'วันเกิด', 'ให้', 'เพื่อน', 'ที่', 'ชื่อ', ' ', 'ออมสิน', ' ', 'ซึ่ง', 'เกิด', 'วันที่', ' ', '7', ' ', 'มกราคม', '  ', 'ระหว่างทาง', 'ฉัน', 'เปิด', ' ', 'Google', ' ', 'Maps', ' ', 'เพื่อ', 'หา', 'เส้นทาง', ' ', 'แต่', 'เกิด', 'ข้อผิดพลาด', ' ', 'GPS', ' ', 'signal', ' ', 'not', ' ', 'found', ' ', 'ทำให้', 'ต้อง', 'ถาม', 'ทาง', 'จาก', 'คน', 'แถว', 'นั้น', 'แทน', '  ', '\\n', 'เมื่อ', 'ถึง', 'ห้าง', 'ฯ', ' ', 'ฉัน', 'เจอ', 'โปรโมชั่น', 'พิเศษ', ' ', 'ซื้อ', ' ', 'iPhone', ' ', '15', ' ', 'Pro', ' ', 'Max', ' ', 'รับ', 'ส่วนลด', ' ', '20', ' ', 'ถ้า', 'ชำระ', 'ผ่าน', 'บัตรเครดิต', 'ของ', 'ธนาคาร', ' ', 'KBank', '  ', 'นอกจากนี้', 'ยังมี', 'ร้านอาหาร', 'ใหม่', 'ที่', 'ชื่อว่า', ' ', 'ครัว', 'ใน', 'สวน', ' ', 'ซึ่ง', 'เป็น', 'ร้านอาหาร', 'ฟิวชัน', 'ไทย', 'ญี่ปุ่น', '  ', 'ฉัน', 'สั่ง', 'ราเมน', 'ต้มยำ', 'และ', 'ชาเขียว', 'มัท', 'ฉะ', ' ', 'แต่', 'พบ', 'ว่า', 'อาหาร', 'มา', 'ช้า', 'กว่า', ' ', '45', ' ', 'นาที', '  ', '\\n', 'หลังจากนั้น', ' ', 'ฉัน', 'เดิน', 'ไป', 'ร้านหนังสือ', ' ', 'SEED', ' ', 'เพื่อ', 'หา', 'หนังสือ', ' ', 'Data', ' ', 'Science', ' ', 'ที่', 'เขียน', 'โดย', ' ', 'Andrew', ' ', 'Ng', ' ', 'แต่กลับ', 'ได้', 'เล่ม', 'ที่', 'ชื่อ', ' ', 'Python', ' ', 'for', ' ', 'Beginners', ' ', 'แทน', '  ', 'พนักงาน', 'แจ้ง', 'ว่า', 'หนังสือ', 'ที่', 'ฉัน', 'ต้องการ', 'หมด', 'สต็อก', ' ', '\\n', 'ก่อน', 'กลับ', ' ', 'ฉัน', 'ลอง', 'ใช้', 'บริการ', 'แชตบอต', 'ของ', ' ', 'ICONSIAM', ' ', 'เพื่อ', 'สอบถาม', 'ที่จอดรถ', ' ', 'โดย', 'พิมพ์', 'คำถาม', 'ว่า', ' ', 'ตอนนี้', 'ที่จอดรถ', 'ใน', 'โซน', ' ', 'A', ' ', 'ว่าง', 'ไหม', ' ', 'แต่', 'บอ', 'ท', 'ตอบ', 'ผิด', 'ว่า', ' ', 'มี', 'ที่', 'จอด', 'ว่าง', 'ทั้งหมด', ' ', '100', ' ', 'คัน', ' ', 'ทั้งที่', 'โซน', 'นั้น', 'เต็ม', 'แล้ว', '  ', 'สุดท้าย', ' ', 'ฉัน', 'จึง', 'โทร', 'ติดต่อ', 'ฝ่าย', 'บริการ', 'ลูกค้า', 'เพื่อ', 'ขอ', 'ข้อมูล', 'ที่', 'ถูกต้อง', 'แทน', '  ', '\\n', 'วันนี้', 'เป็น', 'วัน', 'ธรรมดา', ' ', 'แต่', 'ทำไม', 'ทุกอย่าง', 'ถึง', 'ดู', 'ยุ่งยาก', 'ไป', 'หมด', 'นะ', '  ', 'หรือว่า', ' ', 'AI', ' ', 'ที่', 'เรา', 'ใช้', 'อยู่', 'ทุกวันนี้', 'ยัง', 'ต้อง', 'ปรับปรุง', 'อีก', 'เยอะ', ' ']\n",
            "deepcut :  ['เมื่อ', 'วาน', 'นี้', ' ', '5', ' ', 'มค', ' ', '2025', ' ', 'ฉัน', 'เดินทาง', 'ไป', 'ยัง', 'ศูนย์การค้า ', 'ICONSIAM', ' ', 'เพื่อ', 'ซื้อ', 'ของขวัญ', 'วัน', 'เกิด', 'ให้', 'เพื่อน', 'ที่', 'ชื่อ', ' ', 'ออมสิน', ' ', 'ซึ่ง', 'เกิด', 'วัน', 'ที่', ' ', '7', ' ', 'มกราคม', ' ', ' ', 'ระหว่าง', 'ทาง', 'ฉัน', 'เปิด', ' ', 'Google', ' ', 'Maps', ' ', 'เพื่อ', 'หา', 'เส้นทาง', ' ', 'แต่', 'เกิด', 'ข้อ', 'ผิดพลาด', ' ', 'GPS', ' ', 'signal', ' ', 'not', ' ', 'found', ' ', 'ทำ', 'ให้', 'ต้อง', 'ถาม', 'ทาง', 'จาก', 'คน', 'แถว', 'นั้น', 'แทน', ' ', ' \\n', 'เมื่อ', 'ถึง', 'ห้าง', 'ฯ', ' ', 'ฉัน', 'เจอ', 'โปรโมชั่น', 'พิเศษ', ' ', 'ซื้อ', ' ', 'iPhone', ' ', '15', ' ', 'Pro', ' ', 'Max', ' ', 'รับ', 'ส่วน', 'ลด', ' ', '20', ' ', 'ถ้า', 'ชำระ', 'ผ่าน', 'บัตร', 'เครดิต', 'ของ', 'ธนาคาร', ' KBank', ' ', ' ', 'นอก', 'จาก', 'นี้', 'ยัง', 'มี', 'ร้าน', 'อาหาร', 'ใหม่', 'ที่', 'ชื่อ', 'ว่า', ' ', 'ครัว', 'ใน', 'สวน', ' ', 'ซึ่ง', 'เป็น', 'ร้าน', 'อาหาร', 'ฟิวชันไทย', 'ญี่ปุ่น', ' ', ' ', 'ฉัน', 'สั่ง', 'ราเมน', 'ต้มยำ', 'และ', 'ชาเขียว', 'มัทฉะ', ' ', 'แต่', 'พบ', 'ว่า', 'อาหาร', 'มา', 'ช้า', 'กว่า', ' ', '45', ' ', 'นาที', ' ', ' \\n', 'หลัง', 'จาก', 'นั้น', ' ', 'ฉัน', 'เดิน', 'ไป', 'ร้าน', 'หนังสือ', ' ', 'SEED', ' ', 'เพื่อ', 'หา', 'หนังสือ', ' ', 'Data', ' ', 'Science', ' ', 'ที่', 'เขียน', 'โดย', ' ', 'Andrew Ng', ' ', 'แต่', 'กลับ', 'ได้', 'เล่ม', 'ที่', 'ชื่อ', ' ', 'Python', ' ', 'for', ' ', 'Beginners', ' ', 'แทน', ' ', ' ', 'พนักงาน', 'แจ้ง', 'ว่า', 'หนังสือ', 'ที่', 'ฉัน', 'ต้องการ', 'หมด', 'สต็อก', ' \\n', 'ก่อน', 'กลับ', ' ', 'ฉัน', 'ลอง', 'ใช้', 'บริการ', 'แชตบอต', 'ของ', ' ', 'ICONSIAM', ' ', 'เพื่อ', 'สอบถาม', 'ที่', 'จอด', 'รถ', ' ', 'โดย', 'พิมพ์', 'คำ', 'ถาม', 'ว่า', ' ', 'ตอน', 'นี้', 'ที่', 'จอด', 'รถ', 'ใน', 'โซน', ' ', 'A', ' ', 'ว่าง', 'ไหม', ' ', 'แต่', 'บอท', 'ตอบ', 'ผิด', 'ว่า', ' ', 'มี', 'ที่', 'จอด', 'ว่าง', 'ทั้งหมด', ' ', '100', ' ', 'คัน', ' ', 'ทั้ง', 'ที่', 'โซน', 'นั้น', 'เต็ม', 'แล้ว', ' ', ' ', 'สุดท้าย', ' ', 'ฉัน', 'จึง', 'โทร', 'ติดต่อ', 'ฝ่าย', 'บริการ', 'ลูกค้า', 'เพื่อ', 'ขอ', 'ข้อมูล', 'ที่', 'ถูกต้อง', 'แทน', ' ', ' \\n', 'วัน', 'นี้', 'เป็น', 'วัน', 'ธรรมดา', ' ', 'แต่', 'ทำไม', 'ทุก', 'อย่าง', 'ถึง', 'ดู', 'ยุ่งยาก', 'ไป', 'หมด', 'นะ', ' ', ' ', 'หรือ', 'ว่า', ' ', 'AI', ' ', 'ที่', 'เรา', 'ใช้', 'อยู่', 'ทุก', 'วัน', 'นี้', 'ยัง', 'ต้อง', 'ปรับปรุง', 'อีก', 'เยอะ', ' ']\n",
            "attacut :  ['เมื่อ', 'วาน', 'นี้', ' ', '5', ' ', 'มค', ' ', '2025', ' ', 'ฉัน', 'เดินทาง', 'ไป', 'ยัง', 'ศูนย์การค้า ', 'ICONSIAM', ' ', 'เพื่อ', 'ซื้อ', 'ของขวัญ', 'วัน', 'เกิด', 'ให้', 'เพื่อน', 'ที่', 'ชื่อ', ' ', 'ออม', 'สิน', ' ', 'ซึ่ง', 'เกิด', 'วัน', 'ที่', ' ', '7', ' ', 'มกราคม', ' ', ' ', 'ระหว่าง', 'ทาง', 'ฉัน', 'เปิด', ' ', 'Google', ' ', 'Maps', ' ', 'เพื่อ', 'หา', 'เส้นทาง', ' ', 'แต่', 'เกิด', 'ข้อ', 'ผิดพลาด', ' ', 'GPS', ' ', 'signal', ' ', 'not', ' ', 'found', ' ', 'ทำ', 'ให้', 'ต้อง', 'ถาม', 'ทาง', 'จาก', 'คน', 'แถว', 'นั้น', 'แทน', ' ', ' ', '\\n', 'เมื่อ', 'ถึง', 'ห้างฯ', ' ', 'ฉัน', 'เจอ', 'โปรโมชั่นพิเศษ', ' ', 'ซื้อ', ' ', 'iPhone', ' ', '15', ' ', 'Pro', ' ', 'Max', ' ', 'รับ', 'ส่วน', 'ลด', ' ', '20', ' ', 'ถ้า', 'ชำระ', 'ผ่าน', 'บัตร', 'เครดิต', 'ของ', 'ธนาคาร ', 'KBank', ' ', ' ', 'นอก', 'จาก', 'นี้', 'ยัง', 'มี', 'ร้าน', 'อาหาร', 'ใหม่', 'ที่', 'ชื่อ', 'ว่า', ' ', 'ครัว', 'ใน', 'สวน', ' ', 'ซึ่ง', 'เป็น', 'ร้าน', 'อาหารฟิวชัน', 'ไทย', 'ญี่ปุ่น', ' ', ' ', 'ฉัน', 'สั่ง', 'ราเมนต้มยำ', 'และ', 'ชาเขียว', 'มัทฉะ', ' ', 'แต่', 'พบ', 'ว่า', 'อาหาร', 'มา', 'ช้า', 'กว่า', ' ', '45', ' ', 'นาที', ' ', ' ', '\\n', 'หลัง', 'จาก', 'นั้น', ' ', 'ฉัน', 'เดิน', 'ไป', 'ร้าน', 'หนังสือ', ' ', 'SEED', ' ', 'เพื่อ', 'หา', 'หนังสือ', ' ', 'Data', ' ', 'Science', ' ', 'ที่', 'เขียน', 'โดย', ' ', 'Andrew', ' ', 'Ng', ' ', 'แต่', 'กลับ', 'ได้', 'เล่ม', 'ที่', 'ชื่อ', ' ', 'Python', ' ', 'for', ' ', 'Beginners', ' ', 'แทน', ' ', ' ', 'พนักงาน', 'แจ้ง', 'ว่า', 'หนังสือ', 'ที่', 'ฉัน', 'ต้องการ', 'หมด', 'สต็อก', ' ', '\\n', 'ก่อน', 'กลับ', ' ', 'ฉัน', 'ลอง', 'ใช้', 'บริการ', 'แชตบอต', 'ของ', ' ', 'ICONSIAM', ' ', 'เพื่อ', 'สอบถาม', 'ที่', 'จอด', 'รถ', ' ', 'โดย', 'พิมพ์', 'คำ', 'ถาม', 'ว่า', ' ', 'ตอน', 'นี้', 'ที่', 'จอด', 'รถ', 'ใน', 'โซน', ' ', 'A', ' ', 'ว่าง', 'ไหม', ' ', 'แต่', 'บอท', 'ตอบ', 'ผิด', 'ว่า', ' ', 'มี', 'ที่', 'จอด', 'ว่าง', 'ทั้งหมด', ' ', '100', ' ', 'คัน', ' ', 'ทั้งที่', 'โซน', 'นั้น', 'เต็ม', 'แล้ว', ' ', ' ', 'สุดท้าย', ' ', 'ฉัน', 'จึง', 'โทร', 'ติดต่อ', 'ฝ่าย', 'บริการ', 'ลูกค้า', 'เพื่อ', 'ขอ', 'ข้อมูล', 'ที่', 'ถูกต้อง', 'แทน', ' ', ' ', '\\n', 'วัน', 'นี้', 'เป็น', 'วัน', 'ธรรมดา', ' ', 'แต่', 'ทำไม', 'ทุก', 'อย่าง', 'ถึง', 'ดู', 'ยุ่งยาก', 'ไป', 'หมดนะ', ' ', ' ', 'หรือ', 'ว่า', ' ', 'AI', ' ', 'ที่', 'เรา', 'ใช้', 'อยู่', 'ทุก', 'วัน', 'นี้', 'ยัง', 'ต้อง', 'ปรับปรุง', 'อีก', 'เยอะ', ' ']\n"
          ]
        }
      ]
    },
    {
      "cell_type": "markdown",
      "source": [
        "#### ai4thai"
      ],
      "metadata": {
        "id": "IG2v4_5r38gx"
      }
    },
    {
      "cell_type": "code",
      "source": [
        "import requests\n",
        "\n",
        "url ='https://api.aiforthai.in.th/lextoplus'\n",
        "\n",
        "headers = {'Apikey':\"wdMC9unRh2dCUgvVVWXHAdajHJzYZQEp\"}\n",
        "\n",
        "# text = 'พนักงานโรงแรมให้บริการต้อนรับดีมากก'\n",
        "\n",
        "params = {'text':text,'norm':'1'}\n",
        "\n",
        "response = requests.get(url, params=params, headers=headers)\n",
        "\n",
        "# แปลงผลลัพธ์เป็น JSON และดึงค่า 'tokens' จากผลลัพธ์\n",
        "result = response.json()\n",
        "\n",
        "# ตรวจสอบว่า 'tokens' มีอยู่ในผลลัพธ์หรือไม่\n",
        "if 'tokens' in result:\n",
        "    print(\"Tokens:\", result['tokens'])\n",
        "else:\n",
        "    print(\"No tokens found in the response.\")"
      ],
      "metadata": {
        "colab": {
          "base_uri": "https://localhost:8080/"
        },
        "id": "Ia9OEZ255tNP",
        "outputId": "621a92a2-fbb2-48ad-a6bc-59a42e7b8947"
      },
      "execution_count": null,
      "outputs": [
        {
          "output_type": "stream",
          "name": "stdout",
          "text": [
            "Tokens: ['เมื่อวาน', 'นี้', ' ', '5', ' ', 'มค', ' ', '2025', ' ', 'ฉัน', 'เดินทาง', 'ไป', 'ยัง', 'ศูนย์การค้า', ' ', 'ICONSIAM', ' ', 'เพื่อ', 'ซื้อของ', 'ขวัญ', 'วันเกิด', 'ให้', 'เพื่อน', 'ที่', 'ชื่อ', ' ', 'ออมสิน', ' ', 'ซึ่ง', 'เกิด', 'วันที่', ' ', '7', ' ', 'มกราคม', ' ', ' ', 'ระหว่างทาง', 'ฉัน', 'เปิด', ' ', 'Google', ' ', 'Maps', ' ', 'เพื่อ', 'หา', 'เส้นทาง', ' ', 'แต่', 'เกิด', 'ข้อผิดพลาด', ' ', 'GPS', ' ', 'signal', ' ', 'not', ' ', 'found', ' ', 'ทำให้', 'ต้อง', 'ถาม', 'ทาง', 'จาก', 'คน', 'แถว', 'นั้น', 'แทน', ' ', ' ', '\\n', 'เมื่อ', 'ถึง', 'ห้าง', 'ฯ', ' ', 'ฉัน', 'เจอ', 'โปรโมชั่น', 'พิเศษ', ' ', 'ซื้อ', ' ', 'iPhone', ' ', '15', ' ', 'Pro', ' ', 'Max', ' ', 'รับ', 'ส่วนลด', ' ', '20', ' ', 'ถ้า', 'ชำระ', 'ผ่าน', 'บัตรเครดิต', 'ของ', 'ธนาคาร', ' ', 'KBank', ' ', ' ', 'นอกจากนี้ยัง', 'มี', 'ร้านอาหาร', 'ใหม่', 'ที่', 'ชื่อว่า', ' ', 'ครัว', 'ใน', 'สวน', ' ', 'ซึ่ง', 'เป็น', 'ร้านอาหาร', 'ฟิวชัน', 'ไทย', 'ญี่ปุ่น', ' ', ' ', 'ฉัน', 'สั่ง', 'รา', 'เมน', 'ต้มยำ', 'และ', 'ชา', 'เขียว', 'มัท', 'ฉะ', ' ', 'แต่', 'พบ', 'ว่า', 'อาหาร', 'มา', 'ช้า', 'กว่า', ' ', '45', ' ', 'นาที', ' ', ' ', '\\n', 'หลังจากนั้น', ' ', 'ฉัน', 'เดิน', 'ไป', 'ร้านหนังสือ', ' ', 'S', 'EED', ' ', 'เพื่อ', 'หา', 'หนังสือ', ' ', 'Data', ' ', 'S', 'cience', ' ', 'ที่', 'เขียน', 'โดย', ' ', 'Andrew', ' ', 'Ng', ' ', 'แต่กลับ', 'ได้', 'เล่ม', 'ที่', 'ชื่อ', ' ', 'Python', ' ', 'for', ' ', 'Beginners', ' ', 'แทน', ' ', ' ', 'พนักงาน', 'แจ้ง', 'ว่า', 'หนังสือ', 'ที่', 'ฉัน', 'ต้องการ', 'หมด', 'สต็อก', ' ', '\\n', 'ก่อน', 'กลับ', ' ', 'ฉัน', 'ลอง', 'ใช้', 'บริการ', 'แช', 'ตบ', 'อต', 'ของ', ' ', 'ICONSIAM', ' ', 'เพื่อ', 'สอบถาม', 'ที่จอดรถ', ' ', 'โดย', 'พิมพ์', 'คำถาม', 'ว่า', ' ', 'ตอนนี้', 'ที่จอดรถ', 'ใน', 'โซน', ' ', 'A', ' ', 'ว่าง', 'ไหม', ' ', 'แต่', 'บอท', 'ตอบ', 'ผิด', 'ว่า', ' ', 'มี', 'ที่', 'จอด', 'ว่าง', 'ทั้งหมด', ' ', '100', ' ', 'คัน', ' ', 'ทั้งที่', 'โซน', 'นั้น', 'เต็ม', 'แล้ว', ' ', ' ', 'สุดท้าย', ' ', 'ฉัน', 'จึง', 'โทร', 'ติดต่อ', 'ฝ่าย', 'บริการ', 'ลูกค้า', 'เพื่อ', 'ขอ', 'ข้อมูลที่ถูกต้อง', 'แทน', ' ', ' ', '\\n', 'วันนี้', 'เป็น', 'วัน', 'ธรรมดา', ' ', 'แต่', 'ทำไม', 'ทุกอย่าง', 'ถึง', 'ดู', 'ยุ่งยาก', 'ไป', 'หมด', 'นะ', ' ', ' ', 'หรือว่า', ' ', 'AI', ' ', 'ที่', 'เรา', 'ใช้', 'อยู่', 'ทุกวันนี้', 'ยัง', 'ต้องปรับปรุง', 'อีก', 'เยอะ', ' ']\n"
          ]
        }
      ]
    },
    {
      "cell_type": "markdown",
      "source": [
        "#### ลบช่องว่างออก"
      ],
      "metadata": {
        "id": "CjYyA3WJpw8m"
      }
    },
    {
      "cell_type": "code",
      "source": [
        "tokens = [token for token in tokens_newmm if token.strip()]\n",
        "print(tokens)"
      ],
      "metadata": {
        "colab": {
          "base_uri": "https://localhost:8080/"
        },
        "id": "2UuM8j4WpyLK",
        "outputId": "f40c3813-24c1-41d4-f785-c7baf81049eb"
      },
      "execution_count": null,
      "outputs": [
        {
          "output_type": "stream",
          "name": "stdout",
          "text": [
            "['เมื่อวาน', 'นี้', '5', 'มค', '2025', 'ฉัน', 'เดินทาง', 'ไป', 'ยัง', 'ศูนย์การค้า', 'ICONSIAM', 'เพื่อ', 'ซื้อ', 'ของขวัญ', 'วันเกิด', 'ให้', 'เพื่อน', 'ที่', 'ชื่อ', 'ออมสิน', 'ซึ่ง', 'เกิด', 'วันที่', '7', 'มกราคม', 'ระหว่างทาง', 'ฉัน', 'เปิด', 'Google', 'Maps', 'เพื่อ', 'หา', 'เส้นทาง', 'แต่', 'เกิด', 'ข้อผิดพลาด', 'GPS', 'signal', 'not', 'found', 'ทำให้', 'ต้อง', 'ถาม', 'ทาง', 'จาก', 'คน', 'แถว', 'นั้น', 'แทน', 'เมื่อ', 'ถึง', 'ห้าง', 'ฯ', 'ฉัน', 'เจอ', 'โปรโมชั่น', 'พิเศษ', 'ซื้อ', 'iPhone', '15', 'Pro', 'Max', 'รับ', 'ส่วนลด', '20', 'ถ้า', 'ชำระ', 'ผ่าน', 'บัตรเครดิต', 'ของ', 'ธนาคาร', 'KBank', 'นอกจากนี้', 'ยังมี', 'ร้านอาหาร', 'ใหม่', 'ที่', 'ชื่อว่า', 'ครัว', 'ใน', 'สวน', 'ซึ่ง', 'เป็น', 'ร้านอาหาร', 'ฟิวชัน', 'ไทย', 'ญี่ปุ่น', 'ฉัน', 'สั่ง', 'ราเมน', 'ต้มยำ', 'และ', 'ชาเขียว', 'มัท', 'ฉะ', 'แต่', 'พบ', 'ว่า', 'อาหาร', 'มา', 'ช้า', 'กว่า', '45', 'นาที', 'หลังจากนั้น', 'ฉัน', 'เดิน', 'ไป', 'ร้านหนังสือ', 'SEED', 'เพื่อ', 'หา', 'หนังสือ', 'Data', 'Science', 'ที่', 'เขียน', 'โดย', 'Andrew', 'Ng', 'แต่กลับ', 'ได้', 'เล่ม', 'ที่', 'ชื่อ', 'Python', 'for', 'Beginners', 'แทน', 'พนักงาน', 'แจ้ง', 'ว่า', 'หนังสือ', 'ที่', 'ฉัน', 'ต้องการ', 'หมด', 'สต็อก', 'ก่อน', 'กลับ', 'ฉัน', 'ลอง', 'ใช้', 'บริการ', 'แชตบอต', 'ของ', 'ICONSIAM', 'เพื่อ', 'สอบถาม', 'ที่จอดรถ', 'โดย', 'พิมพ์', 'คำถาม', 'ว่า', 'ตอนนี้', 'ที่จอดรถ', 'ใน', 'โซน', 'A', 'ว่าง', 'ไหม', 'แต่', 'บอ', 'ท', 'ตอบ', 'ผิด', 'ว่า', 'มี', 'ที่', 'จอด', 'ว่าง', 'ทั้งหมด', '100', 'คัน', 'ทั้งที่', 'โซน', 'นั้น', 'เต็ม', 'แล้ว', 'สุดท้าย', 'ฉัน', 'จึง', 'โทร', 'ติดต่อ', 'ฝ่าย', 'บริการ', 'ลูกค้า', 'เพื่อ', 'ขอ', 'ข้อมูล', 'ที่', 'ถูกต้อง', 'แทน', 'วันนี้', 'เป็น', 'วัน', 'ธรรมดา', 'แต่', 'ทำไม', 'ทุกอย่าง', 'ถึง', 'ดู', 'ยุ่งยาก', 'ไป', 'หมด', 'นะ', 'หรือว่า', 'AI', 'ที่', 'เรา', 'ใช้', 'อยู่', 'ทุกวันนี้', 'ยัง', 'ต้อง', 'ปรับปรุง', 'อีก', 'เยอะ']\n"
          ]
        }
      ]
    },
    {
      "cell_type": "markdown",
      "source": [
        "#### แก้คำ"
      ],
      "metadata": {
        "id": "4MnLOPmzB1xd"
      }
    },
    {
      "cell_type": "code",
      "source": [
        "# สร้าง dictionary ที่เก็บคำที่ควรประกบ\n",
        "merge_dict = {\n",
        "    'มค' : 'มกราคม',\n",
        "    'มัท ฉะ': 'มัทฉะ',           # ชื่อเครื่องดื่ม\n",
        "    'บอ ท': 'บอท',              # คำทับศัพท์จาก bot\n",
        "    'ราเมน ต้มยำ': 'ราเมนต้มยำ',  # ชื่ออาหาร\n",
        "    'ห้าง ฯ': 'ห้างฯ',           # คำย่อ\n",
        "    'ชื่อ ว่า': 'ชื่อว่า',        # คำเชื่อม\n",
        "    'แต่ กลับ': 'แต่กลับ',       # คำเชื่อม\n",
        "    'Data Science': 'Data Science', # ชื่อสาขาวิชา\n",
        "    'หรือ ว่า': 'หรือว่า',        # คำเชื่อม\n",
        "    'นอกจาก นี้': 'นอกจากนี้',    # คำเชื่อม\n",
        "    '5 มค 2025': '5 ม.ค. 2025',   # การเขียนวันที่ให้ถูกต้อง\n",
        "    'SEED': 'SE-ED',              # แก้ไขการสะกดชื่อร้าน\n",
        "    'iPhone': 'iPhone',            # ยืนยันคำที่เป็นชื่อแบรนด์\n",
        "    'Pro': 'Pro',                  # ยืนยันคำที่เป็นชื่อรุ่น\n",
        "    'Max': 'Max',                  # ยืนยันคำที่เป็นชื่อรุ่น\n",
        "    'ICONSIAM': 'ICONSIAM',        # ยืนยันคำที่เป็นชื่อสถานที่\n",
        "    'GPS signal not found': 'GPS signal not found',  # คำทับศัพท์ที่ใช้ในภาษาอังกฤษ\n",
        "}\n"
      ],
      "metadata": {
        "id": "REeTLH31B4S5"
      },
      "execution_count": null,
      "outputs": []
    },
    {
      "cell_type": "code",
      "source": [
        "import re\n",
        "\n",
        "def merge_words(word_list, merge_dict):\n",
        "    # แปลงรายการคำเป็นข้อความ\n",
        "    text = ' '.join(word_list)\n",
        "\n",
        "    # ใช้ regex แทนการใช้ replace ทั่วไป เพื่อให้สามารถจัดการกับคำที่มีหลายคำได้\n",
        "    for key, value in merge_dict.items():\n",
        "        text = re.sub(r'\\b' + re.escape(key) + r'\\b', value, text)\n",
        "\n",
        "    # แยกข้อความกลับเป็นรายการคำ\n",
        "    return list(filter(None, text.split(' ')))"
      ],
      "metadata": {
        "id": "CoQLZ3SlEP0i"
      },
      "execution_count": null,
      "outputs": []
    },
    {
      "cell_type": "code",
      "source": [
        "merged_long = merge_words(tokens, merge_dict)\n",
        "print(merged_long)"
      ],
      "metadata": {
        "colab": {
          "base_uri": "https://localhost:8080/"
        },
        "id": "tLqhw60aGA0V",
        "outputId": "4ec2345d-5891-406f-e0f8-ebfedca42fd5"
      },
      "execution_count": null,
      "outputs": [
        {
          "output_type": "stream",
          "name": "stdout",
          "text": [
            "['เมื่อวาน', 'นี้', '5', 'มกราคม', '2025', 'ฉัน', 'เดินทาง', 'ไป', 'ยัง', 'ศูนย์การค้า', 'ICONSIAM', 'เพื่อ', 'ซื้อ', 'ของขวัญ', 'วันเกิด', 'ให้', 'เพื่อน', 'ที่', 'ชื่อ', 'ออมสิน', 'ซึ่ง', 'เกิด', 'วันที่', '7', 'มกราคม', 'ระหว่างทาง', 'ฉัน', 'เปิด', 'Google', 'Maps', 'เพื่อ', 'หา', 'เส้นทาง', 'แต่', 'เกิด', 'ข้อผิดพลาด', 'GPS', 'signal', 'not', 'found', 'ทำให้', 'ต้อง', 'ถาม', 'ทาง', 'จาก', 'คน', 'แถว', 'นั้น', 'แทน', 'เมื่อ', 'ถึง', 'ห้างฯ', 'ฉัน', 'เจอ', 'โปรโมชั่น', 'พิเศษ', 'ซื้อ', 'iPhone', '15', 'Pro', 'Max', 'รับ', 'ส่วนลด', '20', 'ถ้า', 'ชำระ', 'ผ่าน', 'บัตรเครดิต', 'ของ', 'ธนาคาร', 'KBank', 'นอกจากนี้', 'ยังมี', 'ร้านอาหาร', 'ใหม่', 'ที่', 'ชื่อว่า', 'ครัว', 'ใน', 'สวน', 'ซึ่ง', 'เป็น', 'ร้านอาหาร', 'ฟิวชัน', 'ไทย', 'ญี่ปุ่น', 'ฉัน', 'สั่ง', 'ราเมนต้มยำ', 'และ', 'ชาเขียว', 'มัทฉะ', 'แต่', 'พบ', 'ว่า', 'อาหาร', 'มา', 'ช้า', 'กว่า', '45', 'นาที', 'หลังจากนั้น', 'ฉัน', 'เดิน', 'ไป', 'ร้านหนังสือ', 'SE-ED', 'เพื่อ', 'หา', 'หนังสือ', 'Data', 'Science', 'ที่', 'เขียน', 'โดย', 'Andrew', 'Ng', 'แต่กลับ', 'ได้', 'เล่ม', 'ที่', 'ชื่อ', 'Python', 'for', 'Beginners', 'แทน', 'พนักงาน', 'แจ้ง', 'ว่า', 'หนังสือ', 'ที่', 'ฉัน', 'ต้องการ', 'หมด', 'สต็อก', 'ก่อน', 'กลับ', 'ฉัน', 'ลอง', 'ใช้', 'บริการ', 'แชตบอต', 'ของ', 'ICONSIAM', 'เพื่อ', 'สอบถาม', 'ที่จอดรถ', 'โดย', 'พิมพ์', 'คำถาม', 'ว่า', 'ตอนนี้', 'ที่จอดรถ', 'ใน', 'โซน', 'A', 'ว่าง', 'ไหม', 'แต่', 'บอท', 'ตอบ', 'ผิด', 'ว่า', 'มี', 'ที่', 'จอด', 'ว่าง', 'ทั้งหมด', '100', 'คัน', 'ทั้งที่', 'โซน', 'นั้น', 'เต็ม', 'แล้ว', 'สุดท้าย', 'ฉัน', 'จึง', 'โทร', 'ติดต่อ', 'ฝ่าย', 'บริการ', 'ลูกค้า', 'เพื่อ', 'ขอ', 'ข้อมูล', 'ที่', 'ถูกต้อง', 'แทน', 'วันนี้', 'เป็น', 'วัน', 'ธรรมดา', 'แต่', 'ทำไม', 'ทุกอย่าง', 'ถึง', 'ดู', 'ยุ่งยาก', 'ไป', 'หมด', 'นะ', 'หรือว่า', 'AI', 'ที่', 'เรา', 'ใช้', 'อยู่', 'ทุกวันนี้', 'ยัง', 'ต้อง', 'ปรับปรุง', 'อีก', 'เยอะ']\n"
          ]
        }
      ]
    },
    {
      "cell_type": "markdown",
      "source": [
        "### Lowercase"
      ],
      "metadata": {
        "id": "4UBPbhcf_1ih"
      }
    },
    {
      "cell_type": "code",
      "source": [
        "def lowercase_except_proper_nouns(word_list):\n",
        "    proper_nouns = [\n",
        "        'ICONSIAM', 'Google', 'Maps', 'GPS', 'iPhone', 'Pro', 'Max', 'KBank',\n",
        "        'SE-ED', 'Data', 'Science', 'Andrew', 'Ng', 'Python', 'Beginners', 'AI', 'A'\n",
        "    ]  # ชื่อเฉพาะที่ไม่ต้องแปลง\n",
        "    return [word.lower() if word not in proper_nouns else word for word in word_list]\n",
        "\n",
        "lowered_words = lowercase_except_proper_nouns(merged_long)\n",
        "print(lowered_words)\n"
      ],
      "metadata": {
        "colab": {
          "base_uri": "https://localhost:8080/"
        },
        "id": "Fm-AK1lMI5Uq",
        "outputId": "8436bd71-2677-4bb1-9a83-371aaf2cb435"
      },
      "execution_count": null,
      "outputs": [
        {
          "output_type": "stream",
          "name": "stdout",
          "text": [
            "['เมื่อวาน', 'นี้', '5', 'มกราคม', '2025', 'ฉัน', 'เดินทาง', 'ไป', 'ยัง', 'ศูนย์การค้า', 'ICONSIAM', 'เพื่อ', 'ซื้อ', 'ของขวัญ', 'วันเกิด', 'ให้', 'เพื่อน', 'ที่', 'ชื่อ', 'ออมสิน', 'ซึ่ง', 'เกิด', 'วันที่', '7', 'มกราคม', 'ระหว่างทาง', 'ฉัน', 'เปิด', 'Google', 'Maps', 'เพื่อ', 'หา', 'เส้นทาง', 'แต่', 'เกิด', 'ข้อผิดพลาด', 'GPS', 'signal', 'not', 'found', 'ทำให้', 'ต้อง', 'ถาม', 'ทาง', 'จาก', 'คน', 'แถว', 'นั้น', 'แทน', 'เมื่อ', 'ถึง', 'ห้างฯ', 'ฉัน', 'เจอ', 'โปรโมชั่น', 'พิเศษ', 'ซื้อ', 'iPhone', '15', 'Pro', 'Max', 'รับ', 'ส่วนลด', '20', 'ถ้า', 'ชำระ', 'ผ่าน', 'บัตรเครดิต', 'ของ', 'ธนาคาร', 'KBank', 'นอกจากนี้', 'ยังมี', 'ร้านอาหาร', 'ใหม่', 'ที่', 'ชื่อว่า', 'ครัว', 'ใน', 'สวน', 'ซึ่ง', 'เป็น', 'ร้านอาหาร', 'ฟิวชัน', 'ไทย', 'ญี่ปุ่น', 'ฉัน', 'สั่ง', 'ราเมนต้มยำ', 'และ', 'ชาเขียว', 'มัทฉะ', 'แต่', 'พบ', 'ว่า', 'อาหาร', 'มา', 'ช้า', 'กว่า', '45', 'นาที', 'หลังจากนั้น', 'ฉัน', 'เดิน', 'ไป', 'ร้านหนังสือ', 'SE-ED', 'เพื่อ', 'หา', 'หนังสือ', 'Data', 'Science', 'ที่', 'เขียน', 'โดย', 'Andrew', 'Ng', 'แต่กลับ', 'ได้', 'เล่ม', 'ที่', 'ชื่อ', 'Python', 'for', 'Beginners', 'แทน', 'พนักงาน', 'แจ้ง', 'ว่า', 'หนังสือ', 'ที่', 'ฉัน', 'ต้องการ', 'หมด', 'สต็อก', 'ก่อน', 'กลับ', 'ฉัน', 'ลอง', 'ใช้', 'บริการ', 'แชตบอต', 'ของ', 'ICONSIAM', 'เพื่อ', 'สอบถาม', 'ที่จอดรถ', 'โดย', 'พิมพ์', 'คำถาม', 'ว่า', 'ตอนนี้', 'ที่จอดรถ', 'ใน', 'โซน', 'A', 'ว่าง', 'ไหม', 'แต่', 'บอท', 'ตอบ', 'ผิด', 'ว่า', 'มี', 'ที่', 'จอด', 'ว่าง', 'ทั้งหมด', '100', 'คัน', 'ทั้งที่', 'โซน', 'นั้น', 'เต็ม', 'แล้ว', 'สุดท้าย', 'ฉัน', 'จึง', 'โทร', 'ติดต่อ', 'ฝ่าย', 'บริการ', 'ลูกค้า', 'เพื่อ', 'ขอ', 'ข้อมูล', 'ที่', 'ถูกต้อง', 'แทน', 'วันนี้', 'เป็น', 'วัน', 'ธรรมดา', 'แต่', 'ทำไม', 'ทุกอย่าง', 'ถึง', 'ดู', 'ยุ่งยาก', 'ไป', 'หมด', 'นะ', 'หรือว่า', 'AI', 'ที่', 'เรา', 'ใช้', 'อยู่', 'ทุกวันนี้', 'ยัง', 'ต้อง', 'ปรับปรุง', 'อีก', 'เยอะ']\n"
          ]
        }
      ]
    },
    {
      "cell_type": "markdown",
      "source": [
        "### Stop words"
      ],
      "metadata": {
        "id": "SHy6s688S0j6"
      }
    },
    {
      "cell_type": "code",
      "source": [
        "from pythainlp.corpus.common import thai_stopwords\n",
        "\n",
        "# ลบ stop words\n",
        "filtered_tokens = [word for word in lowered_words if word not in thai_stopwords()]\n",
        "\n",
        "print(\"ผลลัพธ์หลังลบ Stop Words:\", filtered_tokens)"
      ],
      "metadata": {
        "colab": {
          "base_uri": "https://localhost:8080/"
        },
        "id": "icnfk3A5_7aQ",
        "outputId": "286b79cf-a074-4e67-e0ea-2a42d4a4ae34"
      },
      "execution_count": null,
      "outputs": [
        {
          "output_type": "stream",
          "name": "stdout",
          "text": [
            "ผลลัพธ์หลังลบ Stop Words: ['5', 'มกราคม', '2025', 'เดินทาง', 'ศูนย์การค้า', 'ICONSIAM', 'ซื้อ', 'ของขวัญ', 'วันเกิด', 'เพื่อน', 'ชื่อ', 'ออมสิน', 'วันที่', '7', 'มกราคม', 'ระหว่างทาง', 'Google', 'Maps', 'หา', 'เส้นทาง', 'ข้อผิดพลาด', 'GPS', 'signal', 'not', 'found', 'ถาม', 'คน', 'แถว', 'แทน', 'ห้างฯ', 'เจอ', 'โปรโมชั่น', 'พิเศษ', 'ซื้อ', 'iPhone', '15', 'Pro', 'Max', 'ส่วนลด', '20', 'ชำระ', 'บัตรเครดิต', 'ธนาคาร', 'KBank', 'ยังมี', 'ร้านอาหาร', 'ชื่อว่า', 'ครัว', 'สวน', 'ร้านอาหาร', 'ฟิวชัน', 'ไทย', 'ญี่ปุ่น', 'สั่ง', 'ราเมนต้มยำ', 'ชาเขียว', 'มัทฉะ', 'อาหาร', '45', 'นาที', 'หลังจากนั้น', 'เดิน', 'ร้านหนังสือ', 'SE-ED', 'หา', 'หนังสือ', 'Data', 'Science', 'Andrew', 'Ng', 'แต่กลับ', 'เล่ม', 'ชื่อ', 'Python', 'for', 'Beginners', 'แทน', 'พนักงาน', 'แจ้ง', 'หนังสือ', 'ต้องการ', 'สต็อก', 'ลอง', 'บริการ', 'แชตบอต', 'ICONSIAM', 'สอบถาม', 'ที่จอดรถ', 'พิมพ์', 'คำถาม', 'ตอนนี้', 'ที่จอดรถ', 'โซน', 'A', 'ว่าง', 'ไหม', 'บอท', 'ตอบ', 'จอด', 'ว่าง', '100', 'คัน', 'โซน', 'เต็ม', 'สุดท้าย', 'โทร', 'ติดต่อ', 'บริการ', 'ลูกค้า', 'ข้อมูล', 'แทน', 'ธรรมดา', 'ดู', 'ยุ่งยาก', 'หรือว่า', 'AI', 'ปรับปรุง']\n"
          ]
        }
      ]
    },
    {
      "cell_type": "markdown",
      "source": [
        "## pythainlp : POS"
      ],
      "metadata": {
        "id": "3XSUhnJTBLWA"
      }
    },
    {
      "cell_type": "code",
      "source": [
        "from pythainlp.tag import pos_tag, pos_tag_sents\n",
        "\n",
        "pos_tags = pos_tag(filtered_tokens)"
      ],
      "metadata": {
        "id": "DTn427kzuw8n"
      },
      "execution_count": null,
      "outputs": []
    },
    {
      "cell_type": "code",
      "source": [
        "pos_dict = {\n",
        "    'NPRP': 'Proper noun',\n",
        "    'NCNM': 'Cardinal number',\n",
        "    'NONM': 'Ordinal number',\n",
        "    'NLBL': 'Label noun',\n",
        "    'NCMN': 'Common noun',\n",
        "    'NTTL': 'Title noun',\n",
        "    'PPRS': 'Personal pronoun',\n",
        "    'PDMN': 'Demonstrative pronoun',\n",
        "    'PNTR': 'Interrogative pronoun',\n",
        "    'PREL': 'Relative pronoun',\n",
        "    'VACT': 'Active verb',\n",
        "    'VSTA': 'Stative verb',\n",
        "    'VATT': 'Attributive verb',\n",
        "    'XVBM': 'Pre-verb auxiliary, before negator \"ไม่\"',\n",
        "    'XVAM': 'Pre-verb auxiliary, after negator \"ไม่\"',\n",
        "    'XVMM': 'Pre-verb, before or after negator \"ไม่\"',\n",
        "    'XVBB': 'Pre-verb auxiliary, in imperative mood',\n",
        "    'XVAE': 'Post-verb auxiliary',\n",
        "    'DDAN': 'Definite determiner, after noun without classifier in between',\n",
        "    'DDAC': 'Definite determiner, allowing classifier in between',\n",
        "    'DDBQ': 'Definite determiner, between noun and classifier or preceding quantitative expression',\n",
        "    'DDAQ': 'Definite determiner, following quantitative expression',\n",
        "    'DIAC': 'Indefinite determiner, following noun; allowing classifier in between',\n",
        "    'DIBQ': 'Indefinite determiner, between noun and classifier or preceding quantitative expression',\n",
        "    'DIAQ': 'Indefinite determiner, following quantitative expression',\n",
        "    'DCNM': 'Determiner, cardinal number expression',\n",
        "    'DONM': 'Determiner, ordinal number expression',\n",
        "    'ADVN': 'Adverb with normal form',\n",
        "    'ADVI': 'Adverb with iterative form',\n",
        "    'ADVP': 'Adverb with prefixed form',\n",
        "    'ADVS': 'Sentential adverb',\n",
        "    'CNIT': 'Unit classifier',\n",
        "    'CLTV': 'Collective classifier',\n",
        "    'CMTR': 'Measurement classifier',\n",
        "    'CFQC': 'Frequency classifier',\n",
        "    'CVBL': 'Verbal classifier',\n",
        "    'JCRG': 'Coordinating conjunction',\n",
        "    'JCMP': 'Comparative conjunction',\n",
        "    'JSBR': 'Subordinating conjunction',\n",
        "    'RPRE': 'Preposition',\n",
        "    'INT': 'Interjection',\n",
        "    'FIXN': 'Nominal prefix',\n",
        "    'FIXV': 'Adverbial prefix',\n",
        "    'EAFF': 'Ending for affirmative sentence',\n",
        "    'EITT': 'Ending for interrogative sentence',\n",
        "    'NEG': 'Negator',\n",
        "    'PUNC': 'Punctuation'\n",
        "}\n"
      ],
      "metadata": {
        "id": "cdcyDF1f2TWq"
      },
      "execution_count": null,
      "outputs": []
    },
    {
      "cell_type": "code",
      "source": [
        "predicted_tags = []\n",
        "\n",
        "for token, pos_tuple in zip(pos_tags, pos_tags):\n",
        "    pos = pos_tuple[1]  # แยกประเภทคำออกจาก tuple\n",
        "    tok = token[0]  # แยกคำออกจาก tuple\n",
        "    readable_pos = pos_dict.get(pos, pos)  # แปลง label ให้เป็นคำที่อ่านง่าย\n",
        "    predicted_tags.append(pos)  # เก็บผลลัพธ์ในรูปแบบ tuple\n",
        "    print(f\"คำ: {tok}, tag: {pos} , ประเภทคำ: {readable_pos}\")"
      ],
      "metadata": {
        "colab": {
          "base_uri": "https://localhost:8080/"
        },
        "collapsed": true,
        "id": "qxW0dqsA2dZ9",
        "outputId": "c452ab6b-b9fa-4b21-8a1f-fffa49aed858"
      },
      "execution_count": null,
      "outputs": [
        {
          "output_type": "stream",
          "name": "stdout",
          "text": [
            "คำ: 5, tag: NLBL , ประเภทคำ: Label noun\n",
            "คำ: มกราคม, tag: NCMN , ประเภทคำ: Common noun\n",
            "คำ: 2025, tag: NCNM , ประเภทคำ: Cardinal number\n",
            "คำ: เดินทาง, tag: VACT , ประเภทคำ: Active verb\n",
            "คำ: ศูนย์การค้า, tag: NCMN , ประเภทคำ: Common noun\n",
            "คำ: ICONSIAM, tag: NCMN , ประเภทคำ: Common noun\n",
            "คำ: ซื้อ, tag: VACT , ประเภทคำ: Active verb\n",
            "คำ: ของขวัญ, tag: NCMN , ประเภทคำ: Common noun\n",
            "คำ: วันเกิด, tag: NCMN , ประเภทคำ: Common noun\n",
            "คำ: เพื่อน, tag: VACT , ประเภทคำ: Active verb\n",
            "คำ: ชื่อ, tag: NCMN , ประเภทคำ: Common noun\n",
            "คำ: ออมสิน, tag: NCMN , ประเภทคำ: Common noun\n",
            "คำ: วันที่, tag: JSBR , ประเภทคำ: Subordinating conjunction\n",
            "คำ: 7, tag: NCNM , ประเภทคำ: Cardinal number\n",
            "คำ: มกราคม, tag: NCMN , ประเภทคำ: Common noun\n",
            "คำ: ระหว่างทาง, tag: CNIT , ประเภทคำ: Unit classifier\n",
            "คำ: Google, tag: NCMN , ประเภทคำ: Common noun\n",
            "คำ: Maps, tag: NCMN , ประเภทคำ: Common noun\n",
            "คำ: หา, tag: VACT , ประเภทคำ: Active verb\n",
            "คำ: เส้นทาง, tag: NCMN , ประเภทคำ: Common noun\n",
            "คำ: ข้อผิดพลาด, tag: NCMN , ประเภทคำ: Common noun\n",
            "คำ: GPS, tag: NCMN , ประเภทคำ: Common noun\n",
            "คำ: signal, tag: NCMN , ประเภทคำ: Common noun\n",
            "คำ: not, tag: NCMN , ประเภทคำ: Common noun\n",
            "คำ: found, tag: NCMN , ประเภทคำ: Common noun\n",
            "คำ: ถาม, tag: NCMN , ประเภทคำ: Common noun\n",
            "คำ: คน, tag: NCMN , ประเภทคำ: Common noun\n",
            "คำ: แถว, tag: NCMN , ประเภทคำ: Common noun\n",
            "คำ: แทน, tag: VSTA , ประเภทคำ: Stative verb\n",
            "คำ: ห้างฯ, tag: NCMN , ประเภทคำ: Common noun\n",
            "คำ: เจอ, tag: NCMN , ประเภทคำ: Common noun\n",
            "คำ: โปรโมชั่น, tag: NCMN , ประเภทคำ: Common noun\n",
            "คำ: พิเศษ, tag: VATT , ประเภทคำ: Attributive verb\n",
            "คำ: ซื้อ, tag: VACT , ประเภทคำ: Active verb\n",
            "คำ: iPhone, tag: NCMN , ประเภทคำ: Common noun\n",
            "คำ: 15, tag: DCNM , ประเภทคำ: Determiner, cardinal number expression\n",
            "คำ: Pro, tag: NCMN , ประเภทคำ: Common noun\n",
            "คำ: Max, tag: CMTR , ประเภทคำ: Measurement classifier\n",
            "คำ: ส่วนลด, tag: NCMN , ประเภทคำ: Common noun\n",
            "คำ: 20, tag: NCNM , ประเภทคำ: Cardinal number\n",
            "คำ: ชำระ, tag: CNIT , ประเภทคำ: Unit classifier\n",
            "คำ: บัตรเครดิต, tag: CMTR , ประเภทคำ: Measurement classifier\n",
            "คำ: ธนาคาร, tag: NCMN , ประเภทคำ: Common noun\n",
            "คำ: KBank, tag: NCMN , ประเภทคำ: Common noun\n",
            "คำ: ยังมี, tag: VACT , ประเภทคำ: Active verb\n",
            "คำ: ร้านอาหาร, tag: NCMN , ประเภทคำ: Common noun\n",
            "คำ: ชื่อว่า, tag: ADVN , ประเภทคำ: Adverb with normal form\n",
            "คำ: ครัว, tag: NCMN , ประเภทคำ: Common noun\n",
            "คำ: สวน, tag: NCMN , ประเภทคำ: Common noun\n",
            "คำ: ร้านอาหาร, tag: NCMN , ประเภทคำ: Common noun\n",
            "คำ: ฟิวชัน, tag: NCMN , ประเภทคำ: Common noun\n",
            "คำ: ไทย, tag: NPRP , ประเภทคำ: Proper noun\n",
            "คำ: ญี่ปุ่น, tag: NPRP , ประเภทคำ: Proper noun\n",
            "คำ: สั่ง, tag: VACT , ประเภทคำ: Active verb\n",
            "คำ: ราเมนต้มยำ, tag: NCMN , ประเภทคำ: Common noun\n",
            "คำ: ชาเขียว, tag: NCMN , ประเภทคำ: Common noun\n",
            "คำ: มัทฉะ, tag: NCMN , ประเภทคำ: Common noun\n",
            "คำ: อาหาร, tag: NCMN , ประเภทคำ: Common noun\n",
            "คำ: 45, tag: NCNM , ประเภทคำ: Cardinal number\n",
            "คำ: นาที, tag: CMTR , ประเภทคำ: Measurement classifier\n",
            "คำ: หลังจากนั้น, tag: JSBR , ประเภทคำ: Subordinating conjunction\n",
            "คำ: เดิน, tag: VACT , ประเภทคำ: Active verb\n",
            "คำ: ร้านหนังสือ, tag: NCMN , ประเภทคำ: Common noun\n",
            "คำ: SE-ED, tag: NCMN , ประเภทคำ: Common noun\n",
            "คำ: หา, tag: VACT , ประเภทคำ: Active verb\n",
            "คำ: หนังสือ, tag: NCMN , ประเภทคำ: Common noun\n",
            "คำ: Data, tag: NCMN , ประเภทคำ: Common noun\n",
            "คำ: Science, tag: NCMN , ประเภทคำ: Common noun\n",
            "คำ: Andrew, tag: NCMN , ประเภทคำ: Common noun\n",
            "คำ: Ng, tag: NCMN , ประเภทคำ: Common noun\n",
            "คำ: แต่กลับ, tag: VACT , ประเภทคำ: Active verb\n",
            "คำ: เล่ม, tag: NCMN , ประเภทคำ: Common noun\n",
            "คำ: ชื่อ, tag: NCMN , ประเภทคำ: Common noun\n",
            "คำ: Python, tag: NCMN , ประเภทคำ: Common noun\n",
            "คำ: for, tag: NCMN , ประเภทคำ: Common noun\n",
            "คำ: Beginners, tag: NCMN , ประเภทคำ: Common noun\n",
            "คำ: แทน, tag: VSTA , ประเภทคำ: Stative verb\n",
            "คำ: พนักงาน, tag: NCMN , ประเภทคำ: Common noun\n",
            "คำ: แจ้ง, tag: NCMN , ประเภทคำ: Common noun\n",
            "คำ: หนังสือ, tag: NCMN , ประเภทคำ: Common noun\n",
            "คำ: ต้องการ, tag: VACT , ประเภทคำ: Active verb\n",
            "คำ: สต็อก, tag: NCMN , ประเภทคำ: Common noun\n",
            "คำ: ลอง, tag: VACT , ประเภทคำ: Active verb\n",
            "คำ: บริการ, tag: VACT , ประเภทคำ: Active verb\n",
            "คำ: แชตบอต, tag: VACT , ประเภทคำ: Active verb\n",
            "คำ: ICONSIAM, tag: NCMN , ประเภทคำ: Common noun\n",
            "คำ: สอบถาม, tag: NCMN , ประเภทคำ: Common noun\n",
            "คำ: ที่จอดรถ, tag: NCMN , ประเภทคำ: Common noun\n",
            "คำ: พิมพ์, tag: VACT , ประเภทคำ: Active verb\n",
            "คำ: คำถาม, tag: NCMN , ประเภทคำ: Common noun\n",
            "คำ: ตอนนี้, tag: DDAC , ประเภทคำ: Definite determiner, allowing classifier in between\n",
            "คำ: ที่จอดรถ, tag: VACT , ประเภทคำ: Active verb\n",
            "คำ: โซน, tag: NCMN , ประเภทคำ: Common noun\n",
            "คำ: A, tag: NCMN , ประเภทคำ: Common noun\n",
            "คำ: ว่าง, tag: VSTA , ประเภทคำ: Stative verb\n",
            "คำ: ไหม, tag: NCMN , ประเภทคำ: Common noun\n",
            "คำ: บอท, tag: NCMN , ประเภทคำ: Common noun\n",
            "คำ: ตอบ, tag: VACT , ประเภทคำ: Active verb\n",
            "คำ: จอด, tag: NCMN , ประเภทคำ: Common noun\n",
            "คำ: ว่าง, tag: VSTA , ประเภทคำ: Stative verb\n",
            "คำ: 100, tag: DCNM , ประเภทคำ: Determiner, cardinal number expression\n",
            "คำ: คัน, tag: CNIT , ประเภทคำ: Unit classifier\n",
            "คำ: โซน, tag: CMTR , ประเภทคำ: Measurement classifier\n",
            "คำ: เต็ม, tag: VSTA , ประเภทคำ: Stative verb\n",
            "คำ: สุดท้าย, tag: DONM , ประเภทคำ: Determiner, ordinal number expression\n",
            "คำ: โทร, tag: NCMN , ประเภทคำ: Common noun\n",
            "คำ: ติดต่อ, tag: VACT , ประเภทคำ: Active verb\n",
            "คำ: บริการ, tag: VACT , ประเภทคำ: Active verb\n",
            "คำ: ลูกค้า, tag: NCMN , ประเภทคำ: Common noun\n",
            "คำ: ข้อมูล, tag: NCMN , ประเภทคำ: Common noun\n",
            "คำ: แทน, tag: VSTA , ประเภทคำ: Stative verb\n",
            "คำ: ธรรมดา, tag: VATT , ประเภทคำ: Attributive verb\n",
            "คำ: ดู, tag: VACT , ประเภทคำ: Active verb\n",
            "คำ: ยุ่งยาก, tag: VATT , ประเภทคำ: Attributive verb\n",
            "คำ: หรือว่า, tag: JSBR , ประเภทคำ: Subordinating conjunction\n",
            "คำ: AI, tag: NCMN , ประเภทคำ: Common noun\n",
            "คำ: ปรับปรุง, tag: VACT , ประเภทคำ: Active verb\n"
          ]
        }
      ]
    },
    {
      "cell_type": "code",
      "source": [
        "print(predicted_tags)"
      ],
      "metadata": {
        "colab": {
          "base_uri": "https://localhost:8080/"
        },
        "id": "D3ItixUAFMOb",
        "outputId": "c68795e8-2892-449d-987b-0410552cd8fc"
      },
      "execution_count": null,
      "outputs": [
        {
          "output_type": "stream",
          "name": "stdout",
          "text": [
            "['NLBL', 'NCMN', 'NCNM', 'VACT', 'NCMN', 'NCMN', 'VACT', 'NCMN', 'NCMN', 'VACT', 'NCMN', 'NCMN', 'JSBR', 'NCNM', 'NCMN', 'CNIT', 'NCMN', 'NCMN', 'VACT', 'NCMN', 'NCMN', 'NCMN', 'NCMN', 'NCMN', 'NCMN', 'NCMN', 'NCMN', 'NCMN', 'VSTA', 'NCMN', 'NCMN', 'NCMN', 'VATT', 'VACT', 'NCMN', 'DCNM', 'NCMN', 'CMTR', 'NCMN', 'NCNM', 'CNIT', 'CMTR', 'NCMN', 'NCMN', 'VACT', 'NCMN', 'ADVN', 'NCMN', 'NCMN', 'NCMN', 'NCMN', 'NPRP', 'NPRP', 'VACT', 'NCMN', 'NCMN', 'NCMN', 'NCMN', 'NCNM', 'CMTR', 'JSBR', 'VACT', 'NCMN', 'NCMN', 'VACT', 'NCMN', 'NCMN', 'NCMN', 'NCMN', 'NCMN', 'VACT', 'NCMN', 'NCMN', 'NCMN', 'NCMN', 'NCMN', 'VSTA', 'NCMN', 'NCMN', 'NCMN', 'VACT', 'NCMN', 'VACT', 'VACT', 'VACT', 'NCMN', 'NCMN', 'NCMN', 'VACT', 'NCMN', 'DDAC', 'VACT', 'NCMN', 'NCMN', 'VSTA', 'NCMN', 'NCMN', 'VACT', 'NCMN', 'VSTA', 'DCNM', 'CNIT', 'CMTR', 'VSTA', 'DONM', 'NCMN', 'VACT', 'VACT', 'NCMN', 'NCMN', 'VSTA', 'VATT', 'VACT', 'VATT', 'JSBR', 'NCMN', 'VACT']\n"
          ]
        }
      ]
    },
    {
      "cell_type": "code",
      "source": [
        "from sklearn.metrics import classification_report\n",
        "\n",
        "true_tags = ['NCNM', 'NCNM', 'NCNM', 'VACT', 'NCMN', 'NPRP', 'VACT', 'NCMN', 'NCMN', 'NCMN', 'NCMN', 'NPRP', 'NCMN', 'NCNM', 'NCMN', 'ADVN', 'NPRP', 'NPRP', 'VACT', 'NCMN', 'NCMN', 'NPRP', 'NPRP', 'NPRP', 'NPRP', 'VACT', 'NCMN', 'NCMN', 'ADVN', 'NCMN', 'VSTA', 'NCMN', 'VATT', 'VACT', 'NPRP', 'NCNM', 'NPRP', 'NPRP', 'NCMN', 'NCNM', 'VACT', 'NCMN', 'NCMN', 'NPRP', 'VSTA', 'NCMN', 'VSTA', 'NCMN', 'NCMN', 'NCMN', 'NPRP', 'NPRP', 'NPRP', 'VACT', 'NCMN', 'NCMN', 'NPRP', 'NCMN', 'NCNM', 'NCMN', 'ADVN', 'VACT', 'NCMN', 'NPRP', 'VACT', 'NCMN', 'NPRP', 'NPRP', 'NPRP', 'NPRP', 'VSTA', 'NCMN', 'NCMN', 'NPRP', 'NPRP', 'NPRP', 'ADVN', 'NCMN', 'VACT', 'NCMN', 'VSTA', 'NCMN', 'VACT', 'NCMN', 'NCMN', 'NPRP', 'VACT', 'NCMN', 'VACT', 'NCMN', 'ADVN', 'NCMN', 'NCMN', 'NPRP', 'VSTA', 'PUNC', 'NCMN', 'VACT', 'VSTA', 'VSTA', 'NCNM', 'NCMN', 'NCMN', 'VSTA', 'ADVN', 'VACT', 'VACT', 'NCMN', 'NCMN', 'NCMN', 'ADVN', 'VATT', 'VACT', 'VATT', 'JSBR', 'NPRP', 'VACT']\n",
        "\n",
        "predicted_tags =  ['NLBL', 'NCMN', 'NCNM', 'VACT', 'NCMN', 'NCMN', 'VACT', 'NCMN', 'NCMN', 'VACT', 'NCMN', 'NCMN', 'JSBR', 'NCNM', 'NCMN', 'CNIT', 'NCMN', 'NCMN', 'VACT', 'NCMN', 'NCMN', 'NCMN', 'NCMN', 'NCMN', 'NCMN', 'NCMN', 'NCMN', 'NCMN', 'VSTA', 'NCMN', 'NCMN', 'NCMN', 'VATT', 'VACT', 'NCMN', 'DCNM', 'NCMN', 'CMTR', 'NCMN', 'NCNM', 'CNIT', 'CMTR', 'NCMN', 'NCMN', 'VACT', 'NCMN', 'ADVN', 'NCMN', 'NCMN', 'NCMN', 'NCMN', 'NPRP', 'NPRP', 'VACT', 'NCMN', 'NCMN', 'NCMN', 'NCMN', 'NCNM', 'CMTR', 'JSBR', 'VACT', 'NCMN', 'NCMN', 'VACT', 'NCMN', 'NCMN', 'NCMN', 'NCMN', 'NCMN', 'VACT', 'NCMN', 'NCMN', 'NCMN', 'NCMN', 'NCMN', 'VSTA', 'NCMN', 'NCMN', 'NCMN', 'VACT', 'NCMN', 'VACT', 'VACT', 'VACT', 'NCMN', 'NCMN', 'NCMN', 'VACT', 'NCMN', 'DDAC', 'VACT', 'NCMN', 'NCMN', 'VSTA', 'NCMN', 'NCMN', 'VACT', 'NCMN', 'VSTA', 'DCNM', 'CNIT', 'CMTR', 'VSTA', 'DONM', 'NCMN', 'VACT', 'VACT', 'NCMN', 'NCMN', 'VSTA', 'VATT', 'VACT', 'VATT', 'JSBR', 'NCMN', 'VACT']\n",
        "\n",
        "# รายงานผลลัพธ์\n",
        "print(classification_report(true_tags, predicted_tags))"
      ],
      "metadata": {
        "colab": {
          "base_uri": "https://localhost:8080/"
        },
        "id": "zTQV9JsxCjbN",
        "outputId": "2e4690f2-49ad-4297-a4e0-43b2023e87cd"
      },
      "execution_count": null,
      "outputs": [
        {
          "output_type": "stream",
          "name": "stdout",
          "text": [
            "              precision    recall  f1-score   support\n",
            "\n",
            "        ADVN       0.00      0.00      0.00         7\n",
            "        CMTR       0.00      0.00      0.00         0\n",
            "        CNIT       0.00      0.00      0.00         0\n",
            "        DCNM       0.00      0.00      0.00         0\n",
            "        DDAC       0.00      0.00      0.00         0\n",
            "        DONM       0.00      0.00      0.00         0\n",
            "        JSBR       0.33      1.00      0.50         1\n",
            "        NCMN       0.51      0.77      0.61        43\n",
            "        NCNM       1.00      0.50      0.67         8\n",
            "        NLBL       0.00      0.00      0.00         0\n",
            "        NPRP       1.00      0.07      0.14        27\n",
            "        PUNC       0.00      0.00      0.00         1\n",
            "        VACT       0.62      0.72      0.67        18\n",
            "        VATT       1.00      1.00      1.00         3\n",
            "        VSTA       0.50      0.33      0.40         9\n",
            "\n",
            "    accuracy                           0.50       117\n",
            "   macro avg       0.33      0.29      0.27       117\n",
            "weighted avg       0.65      0.50      0.47       117\n",
            "\n"
          ]
        },
        {
          "output_type": "stream",
          "name": "stderr",
          "text": [
            "/usr/local/lib/python3.10/dist-packages/sklearn/metrics/_classification.py:1565: UndefinedMetricWarning: Precision is ill-defined and being set to 0.0 in labels with no predicted samples. Use `zero_division` parameter to control this behavior.\n",
            "  _warn_prf(average, modifier, f\"{metric.capitalize()} is\", len(result))\n",
            "/usr/local/lib/python3.10/dist-packages/sklearn/metrics/_classification.py:1565: UndefinedMetricWarning: Recall is ill-defined and being set to 0.0 in labels with no true samples. Use `zero_division` parameter to control this behavior.\n",
            "  _warn_prf(average, modifier, f\"{metric.capitalize()} is\", len(result))\n",
            "/usr/local/lib/python3.10/dist-packages/sklearn/metrics/_classification.py:1565: UndefinedMetricWarning: Precision is ill-defined and being set to 0.0 in labels with no predicted samples. Use `zero_division` parameter to control this behavior.\n",
            "  _warn_prf(average, modifier, f\"{metric.capitalize()} is\", len(result))\n",
            "/usr/local/lib/python3.10/dist-packages/sklearn/metrics/_classification.py:1565: UndefinedMetricWarning: Recall is ill-defined and being set to 0.0 in labels with no true samples. Use `zero_division` parameter to control this behavior.\n",
            "  _warn_prf(average, modifier, f\"{metric.capitalize()} is\", len(result))\n",
            "/usr/local/lib/python3.10/dist-packages/sklearn/metrics/_classification.py:1565: UndefinedMetricWarning: Precision is ill-defined and being set to 0.0 in labels with no predicted samples. Use `zero_division` parameter to control this behavior.\n",
            "  _warn_prf(average, modifier, f\"{metric.capitalize()} is\", len(result))\n",
            "/usr/local/lib/python3.10/dist-packages/sklearn/metrics/_classification.py:1565: UndefinedMetricWarning: Recall is ill-defined and being set to 0.0 in labels with no true samples. Use `zero_division` parameter to control this behavior.\n",
            "  _warn_prf(average, modifier, f\"{metric.capitalize()} is\", len(result))\n"
          ]
        }
      ]
    },
    {
      "cell_type": "code",
      "source": [
        "# เปรียบเทียบ true tags กับ predicted tags\n",
        "for i, (true_tag, predicted_tag) in enumerate(zip(true_tags, predicted_tags)):\n",
        "    if true_tag != predicted_tag:\n",
        "        print(f\"ตำแหน่ง {i}: คำ '{filtered_tokens[i]}' จริง: {true_tag}, ทำนาย: {predicted_tag}\")"
      ],
      "metadata": {
        "colab": {
          "base_uri": "https://localhost:8080/"
        },
        "id": "YgtrfA2qQlCx",
        "outputId": "7cfc8250-c10f-4f7b-b1f6-65e908ec3e5b"
      },
      "execution_count": null,
      "outputs": [
        {
          "output_type": "stream",
          "name": "stdout",
          "text": [
            "ตำแหน่ง 0: คำ '5' จริง: NCNM, ทำนาย: NLBL\n",
            "ตำแหน่ง 1: คำ 'มกราคม' จริง: NCNM, ทำนาย: NCMN\n",
            "ตำแหน่ง 5: คำ 'ICONSIAM' จริง: NPRP, ทำนาย: NCMN\n",
            "ตำแหน่ง 9: คำ 'เพื่อน' จริง: NCMN, ทำนาย: VACT\n",
            "ตำแหน่ง 11: คำ 'ออมสิน' จริง: NPRP, ทำนาย: NCMN\n",
            "ตำแหน่ง 12: คำ 'วันที่' จริง: NCMN, ทำนาย: JSBR\n",
            "ตำแหน่ง 15: คำ 'ระหว่างทาง' จริง: ADVN, ทำนาย: CNIT\n",
            "ตำแหน่ง 16: คำ 'Google' จริง: NPRP, ทำนาย: NCMN\n",
            "ตำแหน่ง 17: คำ 'Maps' จริง: NPRP, ทำนาย: NCMN\n",
            "ตำแหน่ง 21: คำ 'GPS' จริง: NPRP, ทำนาย: NCMN\n",
            "ตำแหน่ง 22: คำ 'signal' จริง: NPRP, ทำนาย: NCMN\n",
            "ตำแหน่ง 23: คำ 'not' จริง: NPRP, ทำนาย: NCMN\n",
            "ตำแหน่ง 24: คำ 'found' จริง: NPRP, ทำนาย: NCMN\n",
            "ตำแหน่ง 25: คำ 'ถาม' จริง: VACT, ทำนาย: NCMN\n",
            "ตำแหน่ง 28: คำ 'แทน' จริง: ADVN, ทำนาย: VSTA\n",
            "ตำแหน่ง 30: คำ 'เจอ' จริง: VSTA, ทำนาย: NCMN\n",
            "ตำแหน่ง 34: คำ 'iPhone' จริง: NPRP, ทำนาย: NCMN\n",
            "ตำแหน่ง 35: คำ '15' จริง: NCNM, ทำนาย: DCNM\n",
            "ตำแหน่ง 36: คำ 'Pro' จริง: NPRP, ทำนาย: NCMN\n",
            "ตำแหน่ง 37: คำ 'Max' จริง: NPRP, ทำนาย: CMTR\n",
            "ตำแหน่ง 40: คำ 'ชำระ' จริง: VACT, ทำนาย: CNIT\n",
            "ตำแหน่ง 41: คำ 'บัตรเครดิต' จริง: NCMN, ทำนาย: CMTR\n",
            "ตำแหน่ง 43: คำ 'KBank' จริง: NPRP, ทำนาย: NCMN\n",
            "ตำแหน่ง 44: คำ 'ยังมี' จริง: VSTA, ทำนาย: VACT\n",
            "ตำแหน่ง 46: คำ 'ชื่อว่า' จริง: VSTA, ทำนาย: ADVN\n",
            "ตำแหน่ง 50: คำ 'ฟิวชัน' จริง: NPRP, ทำนาย: NCMN\n",
            "ตำแหน่ง 56: คำ 'มัทฉะ' จริง: NPRP, ทำนาย: NCMN\n",
            "ตำแหน่ง 59: คำ 'นาที' จริง: NCMN, ทำนาย: CMTR\n",
            "ตำแหน่ง 60: คำ 'หลังจากนั้น' จริง: ADVN, ทำนาย: JSBR\n",
            "ตำแหน่ง 63: คำ 'SE-ED' จริง: NPRP, ทำนาย: NCMN\n",
            "ตำแหน่ง 66: คำ 'Data' จริง: NPRP, ทำนาย: NCMN\n",
            "ตำแหน่ง 67: คำ 'Science' จริง: NPRP, ทำนาย: NCMN\n",
            "ตำแหน่ง 68: คำ 'Andrew' จริง: NPRP, ทำนาย: NCMN\n",
            "ตำแหน่ง 69: คำ 'Ng' จริง: NPRP, ทำนาย: NCMN\n",
            "ตำแหน่ง 70: คำ 'แต่กลับ' จริง: VSTA, ทำนาย: VACT\n",
            "ตำแหน่ง 73: คำ 'Python' จริง: NPRP, ทำนาย: NCMN\n",
            "ตำแหน่ง 74: คำ 'for' จริง: NPRP, ทำนาย: NCMN\n",
            "ตำแหน่ง 75: คำ 'Beginners' จริง: NPRP, ทำนาย: NCMN\n",
            "ตำแหน่ง 76: คำ 'แทน' จริง: ADVN, ทำนาย: VSTA\n",
            "ตำแหน่ง 78: คำ 'แจ้ง' จริง: VACT, ทำนาย: NCMN\n",
            "ตำแหน่ง 80: คำ 'ต้องการ' จริง: VSTA, ทำนาย: VACT\n",
            "ตำแหน่ง 83: คำ 'บริการ' จริง: NCMN, ทำนาย: VACT\n",
            "ตำแหน่ง 84: คำ 'แชตบอต' จริง: NCMN, ทำนาย: VACT\n",
            "ตำแหน่ง 85: คำ 'ICONSIAM' จริง: NPRP, ทำนาย: NCMN\n",
            "ตำแหน่ง 86: คำ 'สอบถาม' จริง: VACT, ทำนาย: NCMN\n",
            "ตำแหน่ง 90: คำ 'ตอนนี้' จริง: ADVN, ทำนาย: DDAC\n",
            "ตำแหน่ง 91: คำ 'ที่จอดรถ' จริง: NCMN, ทำนาย: VACT\n",
            "ตำแหน่ง 93: คำ 'A' จริง: NPRP, ทำนาย: NCMN\n",
            "ตำแหน่ง 95: คำ 'ไหม' จริง: PUNC, ทำนาย: NCMN\n",
            "ตำแหน่ง 98: คำ 'จอด' จริง: VSTA, ทำนาย: NCMN\n",
            "ตำแหน่ง 100: คำ '100' จริง: NCNM, ทำนาย: DCNM\n",
            "ตำแหน่ง 101: คำ 'คัน' จริง: NCMN, ทำนาย: CNIT\n",
            "ตำแหน่ง 102: คำ 'โซน' จริง: NCMN, ทำนาย: CMTR\n",
            "ตำแหน่ง 104: คำ 'สุดท้าย' จริง: ADVN, ทำนาย: DONM\n",
            "ตำแหน่ง 105: คำ 'โทร' จริง: VACT, ทำนาย: NCMN\n",
            "ตำแหน่ง 107: คำ 'บริการ' จริง: NCMN, ทำนาย: VACT\n",
            "ตำแหน่ง 110: คำ 'แทน' จริง: ADVN, ทำนาย: VSTA\n",
            "ตำแหน่ง 115: คำ 'AI' จริง: NPRP, ทำนาย: NCMN\n"
          ]
        }
      ]
    },
    {
      "cell_type": "markdown",
      "source": [
        "## NER"
      ],
      "metadata": {
        "id": "gJ1llb4GTJ5W"
      }
    },
    {
      "cell_type": "code",
      "source": [
        "!pip install --upgrade pythainlp"
      ],
      "metadata": {
        "colab": {
          "base_uri": "https://localhost:8080/"
        },
        "id": "XYj56_PJM1EI",
        "outputId": "f33c8466-3d07-4a1a-84b0-e7987b87cd61"
      },
      "execution_count": null,
      "outputs": [
        {
          "output_type": "stream",
          "name": "stdout",
          "text": [
            "Requirement already satisfied: pythainlp in /usr/local/lib/python3.10/dist-packages (5.0.5)\n",
            "Requirement already satisfied: requests>=2.22.0 in /usr/local/lib/python3.10/dist-packages (from pythainlp) (2.32.3)\n",
            "Requirement already satisfied: charset-normalizer<4,>=2 in /usr/local/lib/python3.10/dist-packages (from requests>=2.22.0->pythainlp) (3.4.1)\n",
            "Requirement already satisfied: idna<4,>=2.5 in /usr/local/lib/python3.10/dist-packages (from requests>=2.22.0->pythainlp) (3.10)\n",
            "Requirement already satisfied: urllib3<3,>=1.21.1 in /usr/local/lib/python3.10/dist-packages (from requests>=2.22.0->pythainlp) (2.3.0)\n",
            "Requirement already satisfied: certifi>=2017.4.17 in /usr/local/lib/python3.10/dist-packages (from requests>=2.22.0->pythainlp) (2024.12.14)\n",
            "\u001b[33mDEPRECATION: omegaconf 2.0.6 has a non-standard dependency specifier PyYAML>=5.1.*. pip 24.1 will enforce this behaviour change. A possible replacement is to upgrade to a newer version of omegaconf or contact the author to suggest that they release a version with a conforming dependency specifiers. Discussion can be found at https://github.com/pypa/pip/issues/12063\u001b[0m\u001b[33m\n",
            "\u001b[0m"
          ]
        }
      ]
    },
    {
      "cell_type": "code",
      "source": [
        "from pythainlp.tag import NER\n",
        "\n",
        "# สร้าง NER object\n",
        "ner = NER()\n",
        "\n",
        "# รวมคำกลับเป็นประโยค\n",
        "text = \"  \".join(filtered_tokens)\n",
        "\n",
        "# แสดงผลลัพธ์\n",
        "print(\"Text: \", text)\n",
        "\n",
        "# ทำ Named Entity Recognition (NER)\n",
        "entities = ner.tag(text)\n",
        "\n",
        "print(\"NER Output:\", entities)"
      ],
      "metadata": {
        "colab": {
          "base_uri": "https://localhost:8080/"
        },
        "id": "exlvzXAHKTU0",
        "outputId": "e47c8874-caa2-4492-9804-f88e3a30d89e"
      },
      "execution_count": null,
      "outputs": [
        {
          "output_type": "stream",
          "name": "stdout",
          "text": [
            "Text:  5  มกราคม  2025  เดินทาง  ศูนย์การค้า  ICONSIAM  ซื้อ  ของขวัญ  วันเกิด  เพื่อน  ชื่อ  ออมสิน  วันที่  7  มกราคม  ระหว่างทาง  Google  Maps  หา  เส้นทาง  ข้อผิดพลาด  GPS  signal  not  found  ถาม  คน  แถว  แทน  ห้างฯ  เจอ  โปรโมชั่น  พิเศษ  ซื้อ  iPhone  15  Pro  Max  ส่วนลด  20  ชำระ  บัตรเครดิต  ธนาคาร  KBank  ยังมี  ร้านอาหาร  ชื่อว่า  ครัว  สวน  ร้านอาหาร  ฟิวชัน  ไทย  ญี่ปุ่น  สั่ง  ราเมนต้มยำ  ชาเขียว  มัทฉะ  อาหาร  45  นาที  หลังจากนั้น  เดิน  ร้านหนังสือ  SE-ED  หา  หนังสือ  Data  Science  Andrew  Ng  แต่กลับ  เล่ม  ชื่อ  Python  for  Beginners  แทน  พนักงาน  แจ้ง  หนังสือ  ต้องการ  สต็อก  ลอง  บริการ  แชตบอต  ICONSIAM  สอบถาม  ที่จอดรถ  พิมพ์  คำถาม  ตอนนี้  ที่จอดรถ  โซน  A  ว่าง  ไหม  บอท  ตอบ  จอด  ว่าง  100  คัน  โซน  เต็ม  สุดท้าย  โทร  ติดต่อ  บริการ  ลูกค้า  ข้อมูล  แทน  ธรรมดา  ดู  ยุ่งยาก  หรือว่า  AI  ปรับปรุง\n",
            "NER Output: [('5', 'B-DATE'), (' ', 'I-DATE'), (' ', 'I-DATE'), ('มกราคม', 'I-DATE'), (' ', 'I-DATE'), (' ', 'I-DATE'), ('20', 'I-DATE'), ('25', 'O'), (' ', 'O'), (' ', 'O'), ('เดินทาง', 'O'), (' ', 'O'), (' ', 'O'), ('ศูนย์การค้', 'B-LOCATION'), ('า', 'I-LOCATION'), (' ', 'O'), (' ', 'O'), ('<unk>', 'O'), (' ', 'O'), (' ', 'O'), ('ซื้อ', 'O'), (' ', 'O'), (' ', 'O'), ('ของขวัญ', 'O'), (' ', 'O'), (' ', 'O'), ('วันเกิด', 'O'), (' ', 'O'), (' ', 'O'), ('เพื่อน', 'O'), (' ', 'O'), (' ', 'O'), ('ชื่อ', 'O'), (' ', 'O'), (' ', 'O'), ('ออมสิน', 'O'), (' ', 'O'), (' ', 'O'), ('วันที่', 'O'), (' ', 'O'), (' ', 'O'), ('7', 'B-DATE'), (' ', 'I-DATE'), (' ', 'I-DATE'), ('มกราคม', 'I-DATE'), (' ', 'O'), (' ', 'O'), ('ระหว่างทาง', 'O'), (' ', 'O'), (' ', 'O'), ('<unk>', 'O'), ('oo', 'O'), ('g', 'I-ORGANIZATION'), ('le', 'O'), (' ', 'O'), (' ', 'O'), ('<unk>', 'O'), ('ap', 'O'), ('s', 'O'), (' ', 'O'), (' ', 'O'), ('หา', 'O'), (' ', 'O'), (' ', 'O'), ('เส้นทาง', 'O'), (' ', 'O'), (' ', 'O'), ('ข้อผิดพลาด', 'O'), (' ', 'O'), (' ', 'O'), ('<unk>', 'O'), (' ', 'O'), (' ', 'O'), ('sign', 'O'), ('al', 'O'), (' ', 'O'), (' ', 'O'), ('not', 'O'), (' ', 'O'), (' ', 'O'), ('f', 'O'), ('ound', 'O'), (' ', 'O'), (' ', 'O'), ('ถาม', 'O'), (' ', 'O'), (' ', 'O'), ('คน', 'O'), (' ', 'O'), (' ', 'O'), ('แถว', 'O'), (' ', 'O'), (' ', 'O'), ('แทน', 'O'), (' ', 'O'), (' ', 'O'), ('ห้าง', 'O'), ('ฯ', 'O'), (' ', 'O'), (' ', 'O'), ('เจอ', 'O'), (' ', 'O'), (' ', 'O'), ('โปรโมชั่น', 'O'), (' ', 'O'), (' ', 'O'), ('พิเศษ', 'O'), (' ', 'O'), (' ', 'O'), ('ซื้อ', 'O'), (' ', 'O'), (' ', 'O'), ('i', 'O'), ('<unk>', 'O'), ('h', 'O'), ('one', 'O'), (' ', 'O'), (' ', 'O'), ('15', 'O'), (' ', 'O'), (' ', 'O'), ('<unk>', 'O'), ('ro', 'O'), (' ', 'O'), (' ', 'O'), ('<unk>', 'O'), ('ax', 'O'), (' ', 'O'), (' ', 'O'), ('ส่วนลด', 'O'), (' ', 'O'), (' ', 'O'), ('20', 'O'), (' ', 'O'), (' ', 'O'), ('ชําระ', 'O'), (' ', 'O'), (' ', 'O'), ('บัตรเครดิต', 'O'), (' ', 'O'), (' ', 'O'), ('ธนาคาร', 'O'), (' ', 'O'), (' ', 'O'), ('<unk>', 'O'), ('an', 'I-ORGANIZATION'), ('k', 'O'), (' ', 'O'), (' ', 'O'), ('ยังมี', 'O'), (' ', 'O'), (' ', 'O'), ('ร้านอาหาร', 'O'), (' ', 'O'), (' ', 'O'), ('ชื่อว่า', 'O'), (' ', 'O'), (' ', 'O'), ('ครัว', 'O'), (' ', 'O'), (' ', 'O'), ('สวน', 'O'), (' ', 'O'), (' ', 'O'), ('ร้านอาหาร', 'O'), (' ', 'O'), (' ', 'O'), ('ฟิว', 'O'), ('ชัน', 'O'), (' ', 'O'), (' ', 'O'), ('ไทย', 'O'), (' ', 'O'), (' ', 'B-LOCATION'), ('ญี่ปุ่น', 'O'), (' ', 'O'), (' ', 'O'), ('สั่ง', 'O'), (' ', 'O'), (' ', 'O'), ('ราเมน', 'O'), ('ต้มยํา', 'O'), (' ', 'O'), (' ', 'O'), ('ชาเขียว', 'O'), (' ', 'O'), (' ', 'O'), ('มัท', 'O'), ('ฉะ', 'O'), (' ', 'O'), (' ', 'O'), ('อาหาร', 'O'), (' ', 'O'), (' ', 'O'), ('45', 'I-TIME'), (' ', 'I-TIME'), (' ', 'I-TIME'), ('นาที', 'I-TIME'), (' ', 'O'), (' ', 'O'), ('หลังจาก', 'O'), ('นั้น', 'O'), (' ', 'O'), (' ', 'O'), ('เดิน', 'O'), (' ', 'O'), (' ', 'O'), ('ร้าน', 'O'), ('หนังสือ', 'O'), (' ', 'O'), (' ', 'O'), ('<unk>', 'O'), ('-', 'I-ORGANIZATION'), ('<unk>', 'O'), (' ', 'O'), (' ', 'O'), ('หา', 'O'), (' ', 'O'), (' ', 'O'), ('หนังสือ', 'O'), (' ', 'O'), (' ', 'O'), ('<unk>', 'O'), ('ata', 'O'), (' ', 'O'), (' ', 'O'), ('<unk>', 'O'), ('ci', 'O'), ('ence', 'O'), (' ', 'O'), (' ', 'O'), ('<unk>', 'O'), ('nd', 'O'), ('re', 'O'), ('w', 'O'), (' ', 'O'), (' ', 'O'), ('<unk>', 'O'), ('g', 'O'), (' ', 'O'), (' ', 'O'), ('แต่กลับ', 'O'), (' ', 'O'), (' ', 'O'), ('เล่ม', 'O'), (' ', 'O'), (' ', 'O'), ('ชื่อ', 'O'), (' ', 'O'), (' ', 'O'), ('<unk>', 'O'), ('y', 'O'), ('th', 'O'), ('on', 'O'), (' ', 'O'), (' ', 'O'), ('for', 'O'), (' ', 'O'), (' ', 'O'), ('<unk>', 'O'), ('e', 'O'), ('gin', 'O'), ('ner', 'O'), ('s', 'O'), (' ', 'O'), (' ', 'O'), ('แทน', 'O'), (' ', 'O'), (' ', 'O'), ('พนักงาน', 'O'), (' ', 'O'), (' ', 'O'), ('แจ้ง', 'O'), (' ', 'O'), (' ', 'O'), ('หนังสือ', 'O'), (' ', 'O'), (' ', 'O'), ('ต้องการ', 'O'), (' ', 'O'), (' ', 'O'), ('สต็อก', 'O'), (' ', 'O'), (' ', 'O'), ('ลอง', 'O'), (' ', 'O'), (' ', 'O'), ('บริการ', 'O'), (' ', 'O'), (' ', 'O'), ('แชต', 'O'), ('บอ', 'O'), ('ต', 'O'), (' ', 'O'), (' ', 'O'), ('<unk>', 'O'), (' ', 'O'), (' ', 'O'), ('สอบถาม', 'O'), (' ', 'O'), (' ', 'O'), ('ที่จอดรถ', 'O'), (' ', 'O'), (' ', 'O'), ('พิมพ์', 'O'), (' ', 'O'), (' ', 'O'), ('คําถาม', 'O'), (' ', 'O'), (' ', 'O'), ('ตอนนี้', 'O'), (' ', 'O'), (' ', 'O'), ('ที่จอดรถ', 'O'), (' ', 'O'), (' ', 'O'), ('โซน', 'O'), (' ', 'O'), (' ', 'O'), ('<unk>', 'O'), (' ', 'O'), (' ', 'O'), ('ว่าง', 'O'), (' ', 'O'), (' ', 'O'), ('ไหม', 'O'), (' ', 'O'), (' ', 'O'), ('บอ', 'O'), ('ท', 'I-DATE'), (' ', 'O'), (' ', 'O'), ('ตอบ', 'O'), (' ', 'O'), (' ', 'O'), ('จอด', 'O'), (' ', 'O'), (' ', 'O'), ('ว่าง', 'O'), (' ', 'O'), (' ', 'O'), ('100', 'O'), (' ', 'O'), (' ', 'O'), ('คัน', 'O'), (' ', 'O'), (' ', 'O'), ('โซน', 'O'), (' ', 'O'), (' ', 'O'), ('เต็ม', 'O'), (' ', 'O'), (' ', 'O'), ('สุดท้าย', 'O'), (' ', 'O'), (' ', 'O'), ('โทร', 'O'), (' ', 'O'), (' ', 'O'), ('ติดต่อ', 'O'), (' ', 'O'), (' ', 'O'), ('บริการ', 'O'), (' ', 'O'), (' ', 'O'), ('ลูกค้า', 'O'), (' ', 'O'), (' ', 'O'), ('ข้อมูล', 'O'), (' ', 'O'), (' ', 'O'), ('แทน', 'O'), (' ', 'O'), (' ', 'O'), ('ธรรมดา', 'O'), (' ', 'O'), (' ', 'O'), ('ดู', 'O'), (' ', 'O'), (' ', 'O'), ('ยุ่งยาก', 'O'), (' ', 'O'), (' ', 'O'), ('หรือว่า', 'O'), (' ', 'O'), (' ', 'O'), ('<unk>', 'O'), (' ', 'O'), (' ', 'O'), ('ปรับปรุง', 'O')]\n"
          ]
        }
      ]
    }
  ]
}